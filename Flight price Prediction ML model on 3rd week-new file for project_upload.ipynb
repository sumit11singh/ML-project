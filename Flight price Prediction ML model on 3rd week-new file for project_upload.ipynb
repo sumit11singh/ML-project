{
 "cells": [
  {
   "cell_type": "code",
   "execution_count": 102,
   "id": "546645ee",
   "metadata": {},
   "outputs": [],
   "source": [
    "import pandas as pd\n",
    "import matplotlib.pyplot as plt\n",
    "import seaborn as sns\n",
    "import numpy as np\n",
    "import warnings\n",
    "warnings.filterwarnings('ignore')"
   ]
  },
  {
   "cell_type": "code",
   "execution_count": 103,
   "id": "4131cf1d",
   "metadata": {},
   "outputs": [],
   "source": [
    "df=pd.read_excel(\"Data_Train.xlsx \")"
   ]
  },
  {
   "cell_type": "code",
   "execution_count": 104,
   "id": "22aff0d2",
   "metadata": {},
   "outputs": [
    {
     "data": {
      "text/html": [
       "<div>\n",
       "<style scoped>\n",
       "    .dataframe tbody tr th:only-of-type {\n",
       "        vertical-align: middle;\n",
       "    }\n",
       "\n",
       "    .dataframe tbody tr th {\n",
       "        vertical-align: top;\n",
       "    }\n",
       "\n",
       "    .dataframe thead th {\n",
       "        text-align: right;\n",
       "    }\n",
       "</style>\n",
       "<table border=\"1\" class=\"dataframe\">\n",
       "  <thead>\n",
       "    <tr style=\"text-align: right;\">\n",
       "      <th></th>\n",
       "      <th>Airline</th>\n",
       "      <th>Date_of_Journey</th>\n",
       "      <th>Source</th>\n",
       "      <th>Destination</th>\n",
       "      <th>Route</th>\n",
       "      <th>Dep_Time</th>\n",
       "      <th>Arrival_Time</th>\n",
       "      <th>Duration</th>\n",
       "      <th>Total_Stops</th>\n",
       "      <th>Additional_Info</th>\n",
       "      <th>Price</th>\n",
       "    </tr>\n",
       "  </thead>\n",
       "  <tbody>\n",
       "    <tr>\n",
       "      <th>0</th>\n",
       "      <td>IndiGo</td>\n",
       "      <td>24/03/2019</td>\n",
       "      <td>Banglore</td>\n",
       "      <td>New Delhi</td>\n",
       "      <td>BLR → DEL</td>\n",
       "      <td>22:20</td>\n",
       "      <td>01:10 22 Mar</td>\n",
       "      <td>2h 50m</td>\n",
       "      <td>non-stop</td>\n",
       "      <td>No info</td>\n",
       "      <td>3897</td>\n",
       "    </tr>\n",
       "    <tr>\n",
       "      <th>1</th>\n",
       "      <td>Air India</td>\n",
       "      <td>1/05/2019</td>\n",
       "      <td>Kolkata</td>\n",
       "      <td>Banglore</td>\n",
       "      <td>CCU → IXR → BBI → BLR</td>\n",
       "      <td>05:50</td>\n",
       "      <td>13:15</td>\n",
       "      <td>7h 25m</td>\n",
       "      <td>2 stops</td>\n",
       "      <td>No info</td>\n",
       "      <td>7662</td>\n",
       "    </tr>\n",
       "    <tr>\n",
       "      <th>2</th>\n",
       "      <td>Jet Airways</td>\n",
       "      <td>9/06/2019</td>\n",
       "      <td>Delhi</td>\n",
       "      <td>Cochin</td>\n",
       "      <td>DEL → LKO → BOM → COK</td>\n",
       "      <td>09:25</td>\n",
       "      <td>04:25 10 Jun</td>\n",
       "      <td>19h</td>\n",
       "      <td>2 stops</td>\n",
       "      <td>No info</td>\n",
       "      <td>13882</td>\n",
       "    </tr>\n",
       "    <tr>\n",
       "      <th>3</th>\n",
       "      <td>IndiGo</td>\n",
       "      <td>12/05/2019</td>\n",
       "      <td>Kolkata</td>\n",
       "      <td>Banglore</td>\n",
       "      <td>CCU → NAG → BLR</td>\n",
       "      <td>18:05</td>\n",
       "      <td>23:30</td>\n",
       "      <td>5h 25m</td>\n",
       "      <td>1 stop</td>\n",
       "      <td>No info</td>\n",
       "      <td>6218</td>\n",
       "    </tr>\n",
       "    <tr>\n",
       "      <th>4</th>\n",
       "      <td>IndiGo</td>\n",
       "      <td>01/03/2019</td>\n",
       "      <td>Banglore</td>\n",
       "      <td>New Delhi</td>\n",
       "      <td>BLR → NAG → DEL</td>\n",
       "      <td>16:50</td>\n",
       "      <td>21:35</td>\n",
       "      <td>4h 45m</td>\n",
       "      <td>1 stop</td>\n",
       "      <td>No info</td>\n",
       "      <td>13302</td>\n",
       "    </tr>\n",
       "    <tr>\n",
       "      <th>...</th>\n",
       "      <td>...</td>\n",
       "      <td>...</td>\n",
       "      <td>...</td>\n",
       "      <td>...</td>\n",
       "      <td>...</td>\n",
       "      <td>...</td>\n",
       "      <td>...</td>\n",
       "      <td>...</td>\n",
       "      <td>...</td>\n",
       "      <td>...</td>\n",
       "      <td>...</td>\n",
       "    </tr>\n",
       "    <tr>\n",
       "      <th>10678</th>\n",
       "      <td>Air Asia</td>\n",
       "      <td>9/04/2019</td>\n",
       "      <td>Kolkata</td>\n",
       "      <td>Banglore</td>\n",
       "      <td>CCU → BLR</td>\n",
       "      <td>19:55</td>\n",
       "      <td>22:25</td>\n",
       "      <td>2h 30m</td>\n",
       "      <td>non-stop</td>\n",
       "      <td>No info</td>\n",
       "      <td>4107</td>\n",
       "    </tr>\n",
       "    <tr>\n",
       "      <th>10679</th>\n",
       "      <td>Air India</td>\n",
       "      <td>27/04/2019</td>\n",
       "      <td>Kolkata</td>\n",
       "      <td>Banglore</td>\n",
       "      <td>CCU → BLR</td>\n",
       "      <td>20:45</td>\n",
       "      <td>23:20</td>\n",
       "      <td>2h 35m</td>\n",
       "      <td>non-stop</td>\n",
       "      <td>No info</td>\n",
       "      <td>4145</td>\n",
       "    </tr>\n",
       "    <tr>\n",
       "      <th>10680</th>\n",
       "      <td>Jet Airways</td>\n",
       "      <td>27/04/2019</td>\n",
       "      <td>Banglore</td>\n",
       "      <td>Delhi</td>\n",
       "      <td>BLR → DEL</td>\n",
       "      <td>08:20</td>\n",
       "      <td>11:20</td>\n",
       "      <td>3h</td>\n",
       "      <td>non-stop</td>\n",
       "      <td>No info</td>\n",
       "      <td>7229</td>\n",
       "    </tr>\n",
       "    <tr>\n",
       "      <th>10681</th>\n",
       "      <td>Vistara</td>\n",
       "      <td>01/03/2019</td>\n",
       "      <td>Banglore</td>\n",
       "      <td>New Delhi</td>\n",
       "      <td>BLR → DEL</td>\n",
       "      <td>11:30</td>\n",
       "      <td>14:10</td>\n",
       "      <td>2h 40m</td>\n",
       "      <td>non-stop</td>\n",
       "      <td>No info</td>\n",
       "      <td>12648</td>\n",
       "    </tr>\n",
       "    <tr>\n",
       "      <th>10682</th>\n",
       "      <td>Air India</td>\n",
       "      <td>9/05/2019</td>\n",
       "      <td>Delhi</td>\n",
       "      <td>Cochin</td>\n",
       "      <td>DEL → GOI → BOM → COK</td>\n",
       "      <td>10:55</td>\n",
       "      <td>19:15</td>\n",
       "      <td>8h 20m</td>\n",
       "      <td>2 stops</td>\n",
       "      <td>No info</td>\n",
       "      <td>11753</td>\n",
       "    </tr>\n",
       "  </tbody>\n",
       "</table>\n",
       "<p>10683 rows × 11 columns</p>\n",
       "</div>"
      ],
      "text/plain": [
       "           Airline Date_of_Journey    Source Destination  \\\n",
       "0           IndiGo      24/03/2019  Banglore   New Delhi   \n",
       "1        Air India       1/05/2019   Kolkata    Banglore   \n",
       "2      Jet Airways       9/06/2019     Delhi      Cochin   \n",
       "3           IndiGo      12/05/2019   Kolkata    Banglore   \n",
       "4           IndiGo      01/03/2019  Banglore   New Delhi   \n",
       "...            ...             ...       ...         ...   \n",
       "10678     Air Asia       9/04/2019   Kolkata    Banglore   \n",
       "10679    Air India      27/04/2019   Kolkata    Banglore   \n",
       "10680  Jet Airways      27/04/2019  Banglore       Delhi   \n",
       "10681      Vistara      01/03/2019  Banglore   New Delhi   \n",
       "10682    Air India       9/05/2019     Delhi      Cochin   \n",
       "\n",
       "                       Route Dep_Time  Arrival_Time Duration Total_Stops  \\\n",
       "0                  BLR → DEL    22:20  01:10 22 Mar   2h 50m    non-stop   \n",
       "1      CCU → IXR → BBI → BLR    05:50         13:15   7h 25m     2 stops   \n",
       "2      DEL → LKO → BOM → COK    09:25  04:25 10 Jun      19h     2 stops   \n",
       "3            CCU → NAG → BLR    18:05         23:30   5h 25m      1 stop   \n",
       "4            BLR → NAG → DEL    16:50         21:35   4h 45m      1 stop   \n",
       "...                      ...      ...           ...      ...         ...   \n",
       "10678              CCU → BLR    19:55         22:25   2h 30m    non-stop   \n",
       "10679              CCU → BLR    20:45         23:20   2h 35m    non-stop   \n",
       "10680              BLR → DEL    08:20         11:20       3h    non-stop   \n",
       "10681              BLR → DEL    11:30         14:10   2h 40m    non-stop   \n",
       "10682  DEL → GOI → BOM → COK    10:55         19:15   8h 20m     2 stops   \n",
       "\n",
       "      Additional_Info  Price  \n",
       "0             No info   3897  \n",
       "1             No info   7662  \n",
       "2             No info  13882  \n",
       "3             No info   6218  \n",
       "4             No info  13302  \n",
       "...               ...    ...  \n",
       "10678         No info   4107  \n",
       "10679         No info   4145  \n",
       "10680         No info   7229  \n",
       "10681         No info  12648  \n",
       "10682         No info  11753  \n",
       "\n",
       "[10683 rows x 11 columns]"
      ]
     },
     "execution_count": 104,
     "metadata": {},
     "output_type": "execute_result"
    }
   ],
   "source": [
    "df"
   ]
  },
  {
   "cell_type": "code",
   "execution_count": 105,
   "id": "1548c22c",
   "metadata": {},
   "outputs": [
    {
     "data": {
      "text/plain": [
       "(10683, 11)"
      ]
     },
     "execution_count": 105,
     "metadata": {},
     "output_type": "execute_result"
    }
   ],
   "source": [
    "df.shape"
   ]
  },
  {
   "cell_type": "code",
   "execution_count": 110,
   "id": "d38181ed",
   "metadata": {},
   "outputs": [],
   "source": [
    "x=df.drop('Price',axis=1)"
   ]
  },
  {
   "cell_type": "code",
   "execution_count": 111,
   "id": "22da18b8",
   "metadata": {},
   "outputs": [
    {
     "data": {
      "text/html": [
       "<div>\n",
       "<style scoped>\n",
       "    .dataframe tbody tr th:only-of-type {\n",
       "        vertical-align: middle;\n",
       "    }\n",
       "\n",
       "    .dataframe tbody tr th {\n",
       "        vertical-align: top;\n",
       "    }\n",
       "\n",
       "    .dataframe thead th {\n",
       "        text-align: right;\n",
       "    }\n",
       "</style>\n",
       "<table border=\"1\" class=\"dataframe\">\n",
       "  <thead>\n",
       "    <tr style=\"text-align: right;\">\n",
       "      <th></th>\n",
       "      <th>Airline</th>\n",
       "      <th>Date_of_Journey</th>\n",
       "      <th>Source</th>\n",
       "      <th>Destination</th>\n",
       "      <th>Route</th>\n",
       "      <th>Dep_Time</th>\n",
       "      <th>Arrival_Time</th>\n",
       "      <th>Duration</th>\n",
       "      <th>Total_Stops</th>\n",
       "      <th>Additional_Info</th>\n",
       "    </tr>\n",
       "  </thead>\n",
       "  <tbody>\n",
       "    <tr>\n",
       "      <th>0</th>\n",
       "      <td>IndiGo</td>\n",
       "      <td>24/03/2019</td>\n",
       "      <td>Banglore</td>\n",
       "      <td>New Delhi</td>\n",
       "      <td>BLR → DEL</td>\n",
       "      <td>22:20</td>\n",
       "      <td>01:10 22 Mar</td>\n",
       "      <td>2h 50m</td>\n",
       "      <td>non-stop</td>\n",
       "      <td>No info</td>\n",
       "    </tr>\n",
       "    <tr>\n",
       "      <th>1</th>\n",
       "      <td>Air India</td>\n",
       "      <td>1/05/2019</td>\n",
       "      <td>Kolkata</td>\n",
       "      <td>Banglore</td>\n",
       "      <td>CCU → IXR → BBI → BLR</td>\n",
       "      <td>05:50</td>\n",
       "      <td>13:15</td>\n",
       "      <td>7h 25m</td>\n",
       "      <td>2 stops</td>\n",
       "      <td>No info</td>\n",
       "    </tr>\n",
       "    <tr>\n",
       "      <th>2</th>\n",
       "      <td>Jet Airways</td>\n",
       "      <td>9/06/2019</td>\n",
       "      <td>Delhi</td>\n",
       "      <td>Cochin</td>\n",
       "      <td>DEL → LKO → BOM → COK</td>\n",
       "      <td>09:25</td>\n",
       "      <td>04:25 10 Jun</td>\n",
       "      <td>19h</td>\n",
       "      <td>2 stops</td>\n",
       "      <td>No info</td>\n",
       "    </tr>\n",
       "    <tr>\n",
       "      <th>3</th>\n",
       "      <td>IndiGo</td>\n",
       "      <td>12/05/2019</td>\n",
       "      <td>Kolkata</td>\n",
       "      <td>Banglore</td>\n",
       "      <td>CCU → NAG → BLR</td>\n",
       "      <td>18:05</td>\n",
       "      <td>23:30</td>\n",
       "      <td>5h 25m</td>\n",
       "      <td>1 stop</td>\n",
       "      <td>No info</td>\n",
       "    </tr>\n",
       "    <tr>\n",
       "      <th>4</th>\n",
       "      <td>IndiGo</td>\n",
       "      <td>01/03/2019</td>\n",
       "      <td>Banglore</td>\n",
       "      <td>New Delhi</td>\n",
       "      <td>BLR → NAG → DEL</td>\n",
       "      <td>16:50</td>\n",
       "      <td>21:35</td>\n",
       "      <td>4h 45m</td>\n",
       "      <td>1 stop</td>\n",
       "      <td>No info</td>\n",
       "    </tr>\n",
       "    <tr>\n",
       "      <th>...</th>\n",
       "      <td>...</td>\n",
       "      <td>...</td>\n",
       "      <td>...</td>\n",
       "      <td>...</td>\n",
       "      <td>...</td>\n",
       "      <td>...</td>\n",
       "      <td>...</td>\n",
       "      <td>...</td>\n",
       "      <td>...</td>\n",
       "      <td>...</td>\n",
       "    </tr>\n",
       "    <tr>\n",
       "      <th>10678</th>\n",
       "      <td>Air Asia</td>\n",
       "      <td>9/04/2019</td>\n",
       "      <td>Kolkata</td>\n",
       "      <td>Banglore</td>\n",
       "      <td>CCU → BLR</td>\n",
       "      <td>19:55</td>\n",
       "      <td>22:25</td>\n",
       "      <td>2h 30m</td>\n",
       "      <td>non-stop</td>\n",
       "      <td>No info</td>\n",
       "    </tr>\n",
       "    <tr>\n",
       "      <th>10679</th>\n",
       "      <td>Air India</td>\n",
       "      <td>27/04/2019</td>\n",
       "      <td>Kolkata</td>\n",
       "      <td>Banglore</td>\n",
       "      <td>CCU → BLR</td>\n",
       "      <td>20:45</td>\n",
       "      <td>23:20</td>\n",
       "      <td>2h 35m</td>\n",
       "      <td>non-stop</td>\n",
       "      <td>No info</td>\n",
       "    </tr>\n",
       "    <tr>\n",
       "      <th>10680</th>\n",
       "      <td>Jet Airways</td>\n",
       "      <td>27/04/2019</td>\n",
       "      <td>Banglore</td>\n",
       "      <td>Delhi</td>\n",
       "      <td>BLR → DEL</td>\n",
       "      <td>08:20</td>\n",
       "      <td>11:20</td>\n",
       "      <td>3h</td>\n",
       "      <td>non-stop</td>\n",
       "      <td>No info</td>\n",
       "    </tr>\n",
       "    <tr>\n",
       "      <th>10681</th>\n",
       "      <td>Vistara</td>\n",
       "      <td>01/03/2019</td>\n",
       "      <td>Banglore</td>\n",
       "      <td>New Delhi</td>\n",
       "      <td>BLR → DEL</td>\n",
       "      <td>11:30</td>\n",
       "      <td>14:10</td>\n",
       "      <td>2h 40m</td>\n",
       "      <td>non-stop</td>\n",
       "      <td>No info</td>\n",
       "    </tr>\n",
       "    <tr>\n",
       "      <th>10682</th>\n",
       "      <td>Air India</td>\n",
       "      <td>9/05/2019</td>\n",
       "      <td>Delhi</td>\n",
       "      <td>Cochin</td>\n",
       "      <td>DEL → GOI → BOM → COK</td>\n",
       "      <td>10:55</td>\n",
       "      <td>19:15</td>\n",
       "      <td>8h 20m</td>\n",
       "      <td>2 stops</td>\n",
       "      <td>No info</td>\n",
       "    </tr>\n",
       "  </tbody>\n",
       "</table>\n",
       "<p>10683 rows × 10 columns</p>\n",
       "</div>"
      ],
      "text/plain": [
       "           Airline Date_of_Journey    Source Destination  \\\n",
       "0           IndiGo      24/03/2019  Banglore   New Delhi   \n",
       "1        Air India       1/05/2019   Kolkata    Banglore   \n",
       "2      Jet Airways       9/06/2019     Delhi      Cochin   \n",
       "3           IndiGo      12/05/2019   Kolkata    Banglore   \n",
       "4           IndiGo      01/03/2019  Banglore   New Delhi   \n",
       "...            ...             ...       ...         ...   \n",
       "10678     Air Asia       9/04/2019   Kolkata    Banglore   \n",
       "10679    Air India      27/04/2019   Kolkata    Banglore   \n",
       "10680  Jet Airways      27/04/2019  Banglore       Delhi   \n",
       "10681      Vistara      01/03/2019  Banglore   New Delhi   \n",
       "10682    Air India       9/05/2019     Delhi      Cochin   \n",
       "\n",
       "                       Route Dep_Time  Arrival_Time Duration Total_Stops  \\\n",
       "0                  BLR → DEL    22:20  01:10 22 Mar   2h 50m    non-stop   \n",
       "1      CCU → IXR → BBI → BLR    05:50         13:15   7h 25m     2 stops   \n",
       "2      DEL → LKO → BOM → COK    09:25  04:25 10 Jun      19h     2 stops   \n",
       "3            CCU → NAG → BLR    18:05         23:30   5h 25m      1 stop   \n",
       "4            BLR → NAG → DEL    16:50         21:35   4h 45m      1 stop   \n",
       "...                      ...      ...           ...      ...         ...   \n",
       "10678              CCU → BLR    19:55         22:25   2h 30m    non-stop   \n",
       "10679              CCU → BLR    20:45         23:20   2h 35m    non-stop   \n",
       "10680              BLR → DEL    08:20         11:20       3h    non-stop   \n",
       "10681              BLR → DEL    11:30         14:10   2h 40m    non-stop   \n",
       "10682  DEL → GOI → BOM → COK    10:55         19:15   8h 20m     2 stops   \n",
       "\n",
       "      Additional_Info  \n",
       "0             No info  \n",
       "1             No info  \n",
       "2             No info  \n",
       "3             No info  \n",
       "4             No info  \n",
       "...               ...  \n",
       "10678         No info  \n",
       "10679         No info  \n",
       "10680         No info  \n",
       "10681         No info  \n",
       "10682         No info  \n",
       "\n",
       "[10683 rows x 10 columns]"
      ]
     },
     "execution_count": 111,
     "metadata": {},
     "output_type": "execute_result"
    }
   ],
   "source": [
    "x"
   ]
  },
  {
   "cell_type": "code",
   "execution_count": 112,
   "id": "72f61997",
   "metadata": {},
   "outputs": [],
   "source": [
    "y=df['Price']"
   ]
  },
  {
   "cell_type": "code",
   "execution_count": 113,
   "id": "437d5eda",
   "metadata": {},
   "outputs": [
    {
     "data": {
      "text/plain": [
       "0         3897\n",
       "1         7662\n",
       "2        13882\n",
       "3         6218\n",
       "4        13302\n",
       "         ...  \n",
       "10678     4107\n",
       "10679     4145\n",
       "10680     7229\n",
       "10681    12648\n",
       "10682    11753\n",
       "Name: Price, Length: 10683, dtype: int64"
      ]
     },
     "execution_count": 113,
     "metadata": {},
     "output_type": "execute_result"
    }
   ],
   "source": [
    "y"
   ]
  },
  {
   "cell_type": "code",
   "execution_count": 114,
   "id": "6d848f17",
   "metadata": {},
   "outputs": [
    {
     "name": "stdout",
     "output_type": "stream",
     "text": [
      "<class 'pandas.core.frame.DataFrame'>\n",
      "RangeIndex: 10683 entries, 0 to 10682\n",
      "Data columns (total 11 columns):\n",
      " #   Column           Non-Null Count  Dtype \n",
      "---  ------           --------------  ----- \n",
      " 0   Airline          10683 non-null  object\n",
      " 1   Date_of_Journey  10683 non-null  object\n",
      " 2   Source           10683 non-null  object\n",
      " 3   Destination      10683 non-null  object\n",
      " 4   Route            10682 non-null  object\n",
      " 5   Dep_Time         10683 non-null  object\n",
      " 6   Arrival_Time     10683 non-null  object\n",
      " 7   Duration         10683 non-null  object\n",
      " 8   Total_Stops      10682 non-null  object\n",
      " 9   Additional_Info  10683 non-null  object\n",
      " 10  Price            10683 non-null  int64 \n",
      "dtypes: int64(1), object(10)\n",
      "memory usage: 918.2+ KB\n"
     ]
    }
   ],
   "source": [
    "df.info()"
   ]
  },
  {
   "cell_type": "code",
   "execution_count": 115,
   "id": "ed33317c",
   "metadata": {},
   "outputs": [
    {
     "data": {
      "text/plain": [
       "Airline            0\n",
       "Date_of_Journey    0\n",
       "Source             0\n",
       "Destination        0\n",
       "Route              1\n",
       "Dep_Time           0\n",
       "Arrival_Time       0\n",
       "Duration           0\n",
       "Total_Stops        1\n",
       "Additional_Info    0\n",
       "Price              0\n",
       "dtype: int64"
      ]
     },
     "execution_count": 115,
     "metadata": {},
     "output_type": "execute_result"
    }
   ],
   "source": [
    "df.isnull().sum()"
   ]
  },
  {
   "cell_type": "markdown",
   "id": "328f5588",
   "metadata": {},
   "source": [
    "NUll values are present in given Dataset"
   ]
  },
  {
   "cell_type": "code",
   "execution_count": 116,
   "id": "255a04e1",
   "metadata": {},
   "outputs": [
    {
     "data": {
      "text/plain": [
       "Airline            object\n",
       "Date_of_Journey    object\n",
       "Source             object\n",
       "Destination        object\n",
       "Route              object\n",
       "Dep_Time           object\n",
       "Arrival_Time       object\n",
       "Duration           object\n",
       "Total_Stops        object\n",
       "Additional_Info    object\n",
       "Price               int64\n",
       "dtype: object"
      ]
     },
     "execution_count": 116,
     "metadata": {},
     "output_type": "execute_result"
    }
   ],
   "source": [
    "df.dtypes"
   ]
  },
  {
   "cell_type": "markdown",
   "id": "54fa722d",
   "metadata": {},
   "source": [
    "Data are Object & int Type"
   ]
  },
  {
   "cell_type": "markdown",
   "id": "aee9e074",
   "metadata": {},
   "source": [
    "# EDA Method(Data Visulization)"
   ]
  },
  {
   "cell_type": "code",
   "execution_count": 128,
   "id": "02ce426f",
   "metadata": {},
   "outputs": [
    {
     "data": {
      "text/plain": [
       "<AxesSubplot:xlabel='Airline', ylabel='Count'>"
      ]
     },
     "execution_count": 128,
     "metadata": {},
     "output_type": "execute_result"
    },
    {
     "data": {
      "image/png": "[encoded data removed]",
      "text/plain": [
       "<Figure size 1296x360 with 1 Axes>"
      ]
     },
     "metadata": {
      "needs_background": "light"
     },
     "output_type": "display_data"
    }
   ],
   "source": [
    "plt.figure(figsize=(18,5))\n",
    "sns.histplot(df['Airline'])"
   ]
  },
  {
   "cell_type": "markdown",
   "id": "2fe16ea0",
   "metadata": {},
   "source": [
    "following Grapgh is showing that Jet Airways has the Highest no of flight.\n",
    "the sequesnce are in JetAirways>Indigo>Air India>Multiple Carriers>Vistara>Air Ashatara"
   ]
  },
  {
   "cell_type": "code",
   "execution_count": 123,
   "id": "d21bf815",
   "metadata": {},
   "outputs": [
    {
     "data": {
      "text/plain": [
       "<AxesSubplot:xlabel='Airline', ylabel='Price'>"
      ]
     },
     "execution_count": 123,
     "metadata": {},
     "output_type": "execute_result"
    },
    {
     "data": {
      "image/png": "[encoded data removed]",
      "text/plain": [
       "<Figure size 1296x504 with 1 Axes>"
      ]
     },
     "metadata": {
      "needs_background": "light"
     },
     "output_type": "display_data"
    }
   ],
   "source": [
    "plt.figure(figsize=(18,7))\n",
    "\n",
    "sns.scatterplot(df['Airline'],df['Price'])"
   ]
  },
  {
   "cell_type": "markdown",
   "id": "7d9aeac4",
   "metadata": {},
   "source": [
    "this graph is showing the fare values for diff-2 Flights"
   ]
  },
  {
   "cell_type": "code",
   "execution_count": 130,
   "id": "7fda932f",
   "metadata": {},
   "outputs": [
    {
     "data": {
      "text/plain": [
       "<AxesSubplot:xlabel='Airline', ylabel='Price'>"
      ]
     },
     "execution_count": 130,
     "metadata": {},
     "output_type": "execute_result"
    },
    {
     "data": {
      "image/png": "[encoded data removed]",
      "text/plain": [
       "<Figure size 1296x504 with 1 Axes>"
      ]
     },
     "metadata": {
      "needs_background": "light"
     },
     "output_type": "display_data"
    }
   ],
   "source": [
    "plt.figure(figsize=(18,7))\n",
    "sns.boxplot(df['Airline'],df['Price'])"
   ]
  },
  {
   "cell_type": "markdown",
   "id": "42b70a5d",
   "metadata": {},
   "source": [
    "above boxplot are also showing the price for each Flights .Jet airways has the highest Fare priceamong all & Economy jet has the less FAre price.\n"
   ]
  },
  {
   "cell_type": "code",
   "execution_count": 139,
   "id": "3bd0a97e",
   "metadata": {},
   "outputs": [
    {
     "data": {
      "text/plain": [
       "<AxesSubplot:xlabel='Date_of_Journey', ylabel='Price'>"
      ]
     },
     "execution_count": 139,
     "metadata": {},
     "output_type": "execute_result"
    },
    {
     "data": {
      "image/png": "[encoded data removed]",
      "text/plain": [
       "<Figure size 2160x720 with 1 Axes>"
      ]
     },
     "metadata": {
      "needs_background": "light"
     },
     "output_type": "display_data"
    }
   ],
   "source": [
    "plt.figure(figsize=(30,10))\n",
    "sns.scatterplot(df['Date_of_Journey'],df['Price'])"
   ]
  },
  {
   "cell_type": "code",
   "execution_count": 140,
   "id": "5a214290",
   "metadata": {},
   "outputs": [
    {
     "data": {
      "text/plain": [
       "<AxesSubplot:xlabel='Date_of_Journey', ylabel='Price'>"
      ]
     },
     "execution_count": 140,
     "metadata": {},
     "output_type": "execute_result"
    },
    {
     "data": {
      "image/png": "[encoded data removed]",
      "text/plain": [
       "<Figure size 2160x720 with 1 Axes>"
      ]
     },
     "metadata": {
      "needs_background": "light"
     },
     "output_type": "display_data"
    }
   ],
   "source": [
    "plt.figure(figsize=(30,10))\n",
    "sns.boxplot(df['Date_of_Journey'],df['Price'])"
   ]
  },
  {
   "cell_type": "markdown",
   "id": "582f2536",
   "metadata": {},
   "source": [
    "Following Graph is showing that how the Date of Journey of Flights are influencing the Price Fare ."
   ]
  },
  {
   "cell_type": "code",
   "execution_count": 141,
   "id": "371fb7d1",
   "metadata": {},
   "outputs": [
    {
     "data": {
      "text/plain": [
       "<AxesSubplot:xlabel='Source', ylabel='Count'>"
      ]
     },
     "execution_count": 141,
     "metadata": {},
     "output_type": "execute_result"
    },
    {
     "data": {
      "image/png": "[encoded data removed]",
      "text/plain": [
       "<Figure size 432x288 with 1 Axes>"
      ]
     },
     "metadata": {
      "needs_background": "light"
     },
     "output_type": "display_data"
    }
   ],
   "source": [
    "sns.histplot(df['Source'])"
   ]
  },
  {
   "cell_type": "markdown",
   "id": "340712d5",
   "metadata": {},
   "source": [
    "Highest source count of Flights are Delhi=4500 & least is Chennai.\n"
   ]
  },
  {
   "cell_type": "code",
   "execution_count": 142,
   "id": "ea194900",
   "metadata": {},
   "outputs": [
    {
     "data": {
      "text/plain": [
       "<AxesSubplot:xlabel='Destination', ylabel='Count'>"
      ]
     },
     "execution_count": 142,
     "metadata": {},
     "output_type": "execute_result"
    },
    {
     "data": {
      "image/png": "[encoded data removed]",
      "text/plain": [
       "<Figure size 432x288 with 1 Axes>"
      ]
     },
     "metadata": {
      "needs_background": "light"
     },
     "output_type": "display_data"
    }
   ],
   "source": [
    "sns.histplot(df['Destination'])"
   ]
  },
  {
   "cell_type": "markdown",
   "id": "0eef0825",
   "metadata": {},
   "source": [
    "Highest Destination count of Flights are cochin=4500 & least is Kolkata=500"
   ]
  },
  {
   "cell_type": "code",
   "execution_count": 143,
   "id": "a71fd349",
   "metadata": {},
   "outputs": [
    {
     "data": {
      "text/plain": [
       "<AxesSubplot:xlabel='Destination', ylabel='Price'>"
      ]
     },
     "execution_count": 143,
     "metadata": {},
     "output_type": "execute_result"
    },
    {
     "data": {
      "image/png": "[encoded data removed]",
      "text/plain": [
       "<Figure size 432x288 with 1 Axes>"
      ]
     },
     "metadata": {
      "needs_background": "light"
     },
     "output_type": "display_data"
    }
   ],
   "source": [
    "sns.boxplot(df['Destination'],df['Price'])"
   ]
  },
  {
   "cell_type": "markdown",
   "id": "e77695fe",
   "metadata": {},
   "source": [
    "the price fare for New Delhi Destination is higher=5000 to 850000 & least is for Delhi=5000 to 12000 rs."
   ]
  },
  {
   "cell_type": "code",
   "execution_count": 144,
   "id": "451e705b",
   "metadata": {},
   "outputs": [
    {
     "data": {
      "text/plain": [
       "<AxesSubplot:xlabel='Source', ylabel='Price'>"
      ]
     },
     "execution_count": 144,
     "metadata": {},
     "output_type": "execute_result"
    },
    {
     "data": {
      "image/png": "[encoded data removed]",
      "text/plain": [
       "<Figure size 432x288 with 1 Axes>"
      ]
     },
     "metadata": {
      "needs_background": "light"
     },
     "output_type": "display_data"
    }
   ],
   "source": [
    "sns.boxplot(df['Source'],df['Price'])"
   ]
  },
  {
   "cell_type": "markdown",
   "id": "cbc74e54",
   "metadata": {},
   "source": [
    "the price fare for New Delhi Source is higher=5000 to 850000 & least is for Chennai=5000 to 15000 rs."
   ]
  },
  {
   "cell_type": "code",
   "execution_count": 151,
   "id": "230a094b",
   "metadata": {},
   "outputs": [
    {
     "data": {
      "text/plain": [
       "<AxesSubplot:xlabel='Total_Stops', ylabel='Price'>"
      ]
     },
     "execution_count": 151,
     "metadata": {},
     "output_type": "execute_result"
    },
    {
     "data": {
      "image/png": "[encoded data removed]",
      "text/plain": [
       "<Figure size 432x288 with 1 Axes>"
      ]
     },
     "metadata": {
      "needs_background": "light"
     },
     "output_type": "display_data"
    }
   ],
   "source": [
    "sns.scatterplot(df['Total_Stops'],df['Price'])"
   ]
  },
  {
   "cell_type": "code",
   "execution_count": 153,
   "id": "12dd11d2",
   "metadata": {},
   "outputs": [
    {
     "data": {
      "text/plain": [
       "<AxesSubplot:xlabel='Total_Stops', ylabel='Price'>"
      ]
     },
     "execution_count": 153,
     "metadata": {},
     "output_type": "execute_result"
    },
    {
     "data": {
      "image/png": "[encoded data removed]",
      "text/plain": [
       "<Figure size 432x288 with 1 Axes>"
      ]
     },
     "metadata": {
      "needs_background": "light"
     },
     "output_type": "display_data"
    }
   ],
   "source": [
    "sns.boxplot(df['Total_Stops'],df['Price'])"
   ]
  },
  {
   "cell_type": "markdown",
   "id": "42b1ca1f",
   "metadata": {},
   "source": [
    "Pricefare of Flight for 1 stop is Higher=5000-850000rs & least price fare is 4 stops=15000rs"
   ]
  },
  {
   "cell_type": "code",
   "execution_count": 159,
   "id": "369a8116",
   "metadata": {},
   "outputs": [
    {
     "data": {
      "text/plain": [
       "<seaborn.axisgrid.PairGrid at 0x119f0cf760>"
      ]
     },
     "execution_count": 159,
     "metadata": {},
     "output_type": "execute_result"
    },
    {
     "data": {
      "image/png": "[encoded data removed]",
      "text/plain": [
       "<Figure size 180x180 with 2 Axes>"
      ]
     },
     "metadata": {
      "needs_background": "light"
     },
     "output_type": "display_data"
    }
   ],
   "source": [
    "sns.pairplot(df)"
   ]
  },
  {
   "cell_type": "markdown",
   "id": "fcc7a7e6",
   "metadata": {},
   "source": [
    "# Data Visulization for Label o/p"
   ]
  },
  {
   "cell_type": "code",
   "execution_count": 154,
   "id": "a5b61a38",
   "metadata": {},
   "outputs": [
    {
     "data": {
      "text/plain": [
       "<AxesSubplot:xlabel='Price', ylabel='count'>"
      ]
     },
     "execution_count": 154,
     "metadata": {},
     "output_type": "execute_result"
    },
    {
     "data": {
      "image/png": "[encoded data removed]",
      "text/plain": [
       "<Figure size 432x288 with 1 Axes>"
      ]
     },
     "metadata": {
      "needs_background": "light"
     },
     "output_type": "display_data"
    }
   ],
   "source": [
    "sns.countplot(df['Price'])"
   ]
  },
  {
   "cell_type": "code",
   "execution_count": 155,
   "id": "38675188",
   "metadata": {},
   "outputs": [
    {
     "data": {
      "text/plain": [
       "<AxesSubplot:xlabel='Price', ylabel='Count'>"
      ]
     },
     "execution_count": 155,
     "metadata": {},
     "output_type": "execute_result"
    },
    {
     "data": {
      "image/png": "[encoded data removed]",
      "text/plain": [
       "<Figure size 432x288 with 1 Axes>"
      ]
     },
     "metadata": {
      "needs_background": "light"
     },
     "output_type": "display_data"
    }
   ],
   "source": [
    "sns.histplot(df['Price'])"
   ]
  },
  {
   "cell_type": "markdown",
   "id": "110f37f8",
   "metadata": {},
   "source": [
    "Above Graph is showing that most of Price are Lying 5000rs to 16000rs"
   ]
  },
  {
   "cell_type": "code",
   "execution_count": 158,
   "id": "be69f1f0",
   "metadata": {},
   "outputs": [
    {
     "data": {
      "text/plain": [
       "<AxesSubplot:ylabel='Price'>"
      ]
     },
     "execution_count": 158,
     "metadata": {},
     "output_type": "execute_result"
    },
    {
     "data": {
      "image/png": "[encoded data removed]",
      "text/plain": [
       "<Figure size 432x288 with 1 Axes>"
      ]
     },
     "metadata": {
      "needs_background": "light"
     },
     "output_type": "display_data"
    }
   ],
   "source": [
    "sns.boxplot(y=df['Price'])"
   ]
  },
  {
   "cell_type": "markdown",
   "id": "3f09957e",
   "metadata": {},
   "source": [
    "this grapgh is also showing the Same price count as above."
   ]
  },
  {
   "cell_type": "markdown",
   "id": "db02afb2",
   "metadata": {},
   "source": [
    "# Fill the Null Object values By using SimpleImputer Class"
   ]
  },
  {
   "cell_type": "code",
   "execution_count": 12,
   "id": "1dd6c9af",
   "metadata": {},
   "outputs": [],
   "source": [
    "from sklearn.impute import SimpleImputer\n",
    "imp=SimpleImputer(strategy='most_frequent')"
   ]
  },
  {
   "cell_type": "code",
   "execution_count": 13,
   "id": "67ca2ec3",
   "metadata": {},
   "outputs": [],
   "source": [
    " for i in df.columns:\n",
    "        df[i]=imp.fit_transform(df[i].values.reshape(-1,1))"
   ]
  },
  {
   "cell_type": "code",
   "execution_count": 14,
   "id": "2e3af264",
   "metadata": {},
   "outputs": [
    {
     "data": {
      "text/html": [
       "<div>\n",
       "<style scoped>\n",
       "    .dataframe tbody tr th:only-of-type {\n",
       "        vertical-align: middle;\n",
       "    }\n",
       "\n",
       "    .dataframe tbody tr th {\n",
       "        vertical-align: top;\n",
       "    }\n",
       "\n",
       "    .dataframe thead th {\n",
       "        text-align: right;\n",
       "    }\n",
       "</style>\n",
       "<table border=\"1\" class=\"dataframe\">\n",
       "  <thead>\n",
       "    <tr style=\"text-align: right;\">\n",
       "      <th></th>\n",
       "      <th>Airline</th>\n",
       "      <th>Date_of_Journey</th>\n",
       "      <th>Source</th>\n",
       "      <th>Destination</th>\n",
       "      <th>Route</th>\n",
       "      <th>Dep_Time</th>\n",
       "      <th>Arrival_Time</th>\n",
       "      <th>Duration</th>\n",
       "      <th>Total_Stops</th>\n",
       "      <th>Additional_Info</th>\n",
       "      <th>Price</th>\n",
       "    </tr>\n",
       "  </thead>\n",
       "  <tbody>\n",
       "    <tr>\n",
       "      <th>0</th>\n",
       "      <td>IndiGo</td>\n",
       "      <td>24/03/2019</td>\n",
       "      <td>Banglore</td>\n",
       "      <td>New Delhi</td>\n",
       "      <td>BLR → DEL</td>\n",
       "      <td>22:20</td>\n",
       "      <td>01:10 22 Mar</td>\n",
       "      <td>2h 50m</td>\n",
       "      <td>non-stop</td>\n",
       "      <td>No info</td>\n",
       "      <td>3897</td>\n",
       "    </tr>\n",
       "    <tr>\n",
       "      <th>1</th>\n",
       "      <td>Air India</td>\n",
       "      <td>1/05/2019</td>\n",
       "      <td>Kolkata</td>\n",
       "      <td>Banglore</td>\n",
       "      <td>CCU → IXR → BBI → BLR</td>\n",
       "      <td>05:50</td>\n",
       "      <td>13:15</td>\n",
       "      <td>7h 25m</td>\n",
       "      <td>2 stops</td>\n",
       "      <td>No info</td>\n",
       "      <td>7662</td>\n",
       "    </tr>\n",
       "    <tr>\n",
       "      <th>2</th>\n",
       "      <td>Jet Airways</td>\n",
       "      <td>9/06/2019</td>\n",
       "      <td>Delhi</td>\n",
       "      <td>Cochin</td>\n",
       "      <td>DEL → LKO → BOM → COK</td>\n",
       "      <td>09:25</td>\n",
       "      <td>04:25 10 Jun</td>\n",
       "      <td>19h</td>\n",
       "      <td>2 stops</td>\n",
       "      <td>No info</td>\n",
       "      <td>13882</td>\n",
       "    </tr>\n",
       "    <tr>\n",
       "      <th>3</th>\n",
       "      <td>IndiGo</td>\n",
       "      <td>12/05/2019</td>\n",
       "      <td>Kolkata</td>\n",
       "      <td>Banglore</td>\n",
       "      <td>CCU → NAG → BLR</td>\n",
       "      <td>18:05</td>\n",
       "      <td>23:30</td>\n",
       "      <td>5h 25m</td>\n",
       "      <td>1 stop</td>\n",
       "      <td>No info</td>\n",
       "      <td>6218</td>\n",
       "    </tr>\n",
       "    <tr>\n",
       "      <th>4</th>\n",
       "      <td>IndiGo</td>\n",
       "      <td>01/03/2019</td>\n",
       "      <td>Banglore</td>\n",
       "      <td>New Delhi</td>\n",
       "      <td>BLR → NAG → DEL</td>\n",
       "      <td>16:50</td>\n",
       "      <td>21:35</td>\n",
       "      <td>4h 45m</td>\n",
       "      <td>1 stop</td>\n",
       "      <td>No info</td>\n",
       "      <td>13302</td>\n",
       "    </tr>\n",
       "    <tr>\n",
       "      <th>...</th>\n",
       "      <td>...</td>\n",
       "      <td>...</td>\n",
       "      <td>...</td>\n",
       "      <td>...</td>\n",
       "      <td>...</td>\n",
       "      <td>...</td>\n",
       "      <td>...</td>\n",
       "      <td>...</td>\n",
       "      <td>...</td>\n",
       "      <td>...</td>\n",
       "      <td>...</td>\n",
       "    </tr>\n",
       "    <tr>\n",
       "      <th>10678</th>\n",
       "      <td>Air Asia</td>\n",
       "      <td>9/04/2019</td>\n",
       "      <td>Kolkata</td>\n",
       "      <td>Banglore</td>\n",
       "      <td>CCU → BLR</td>\n",
       "      <td>19:55</td>\n",
       "      <td>22:25</td>\n",
       "      <td>2h 30m</td>\n",
       "      <td>non-stop</td>\n",
       "      <td>No info</td>\n",
       "      <td>4107</td>\n",
       "    </tr>\n",
       "    <tr>\n",
       "      <th>10679</th>\n",
       "      <td>Air India</td>\n",
       "      <td>27/04/2019</td>\n",
       "      <td>Kolkata</td>\n",
       "      <td>Banglore</td>\n",
       "      <td>CCU → BLR</td>\n",
       "      <td>20:45</td>\n",
       "      <td>23:20</td>\n",
       "      <td>2h 35m</td>\n",
       "      <td>non-stop</td>\n",
       "      <td>No info</td>\n",
       "      <td>4145</td>\n",
       "    </tr>\n",
       "    <tr>\n",
       "      <th>10680</th>\n",
       "      <td>Jet Airways</td>\n",
       "      <td>27/04/2019</td>\n",
       "      <td>Banglore</td>\n",
       "      <td>Delhi</td>\n",
       "      <td>BLR → DEL</td>\n",
       "      <td>08:20</td>\n",
       "      <td>11:20</td>\n",
       "      <td>3h</td>\n",
       "      <td>non-stop</td>\n",
       "      <td>No info</td>\n",
       "      <td>7229</td>\n",
       "    </tr>\n",
       "    <tr>\n",
       "      <th>10681</th>\n",
       "      <td>Vistara</td>\n",
       "      <td>01/03/2019</td>\n",
       "      <td>Banglore</td>\n",
       "      <td>New Delhi</td>\n",
       "      <td>BLR → DEL</td>\n",
       "      <td>11:30</td>\n",
       "      <td>14:10</td>\n",
       "      <td>2h 40m</td>\n",
       "      <td>non-stop</td>\n",
       "      <td>No info</td>\n",
       "      <td>12648</td>\n",
       "    </tr>\n",
       "    <tr>\n",
       "      <th>10682</th>\n",
       "      <td>Air India</td>\n",
       "      <td>9/05/2019</td>\n",
       "      <td>Delhi</td>\n",
       "      <td>Cochin</td>\n",
       "      <td>DEL → GOI → BOM → COK</td>\n",
       "      <td>10:55</td>\n",
       "      <td>19:15</td>\n",
       "      <td>8h 20m</td>\n",
       "      <td>2 stops</td>\n",
       "      <td>No info</td>\n",
       "      <td>11753</td>\n",
       "    </tr>\n",
       "  </tbody>\n",
       "</table>\n",
       "<p>10683 rows × 11 columns</p>\n",
       "</div>"
      ],
      "text/plain": [
       "           Airline Date_of_Journey    Source Destination  \\\n",
       "0           IndiGo      24/03/2019  Banglore   New Delhi   \n",
       "1        Air India       1/05/2019   Kolkata    Banglore   \n",
       "2      Jet Airways       9/06/2019     Delhi      Cochin   \n",
       "3           IndiGo      12/05/2019   Kolkata    Banglore   \n",
       "4           IndiGo      01/03/2019  Banglore   New Delhi   \n",
       "...            ...             ...       ...         ...   \n",
       "10678     Air Asia       9/04/2019   Kolkata    Banglore   \n",
       "10679    Air India      27/04/2019   Kolkata    Banglore   \n",
       "10680  Jet Airways      27/04/2019  Banglore       Delhi   \n",
       "10681      Vistara      01/03/2019  Banglore   New Delhi   \n",
       "10682    Air India       9/05/2019     Delhi      Cochin   \n",
       "\n",
       "                       Route Dep_Time  Arrival_Time Duration Total_Stops  \\\n",
       "0                  BLR → DEL    22:20  01:10 22 Mar   2h 50m    non-stop   \n",
       "1      CCU → IXR → BBI → BLR    05:50         13:15   7h 25m     2 stops   \n",
       "2      DEL → LKO → BOM → COK    09:25  04:25 10 Jun      19h     2 stops   \n",
       "3            CCU → NAG → BLR    18:05         23:30   5h 25m      1 stop   \n",
       "4            BLR → NAG → DEL    16:50         21:35   4h 45m      1 stop   \n",
       "...                      ...      ...           ...      ...         ...   \n",
       "10678              CCU → BLR    19:55         22:25   2h 30m    non-stop   \n",
       "10679              CCU → BLR    20:45         23:20   2h 35m    non-stop   \n",
       "10680              BLR → DEL    08:20         11:20       3h    non-stop   \n",
       "10681              BLR → DEL    11:30         14:10   2h 40m    non-stop   \n",
       "10682  DEL → GOI → BOM → COK    10:55         19:15   8h 20m     2 stops   \n",
       "\n",
       "      Additional_Info  Price  \n",
       "0             No info   3897  \n",
       "1             No info   7662  \n",
       "2             No info  13882  \n",
       "3             No info   6218  \n",
       "4             No info  13302  \n",
       "...               ...    ...  \n",
       "10678         No info   4107  \n",
       "10679         No info   4145  \n",
       "10680         No info   7229  \n",
       "10681         No info  12648  \n",
       "10682         No info  11753  \n",
       "\n",
       "[10683 rows x 11 columns]"
      ]
     },
     "execution_count": 14,
     "metadata": {},
     "output_type": "execute_result"
    }
   ],
   "source": [
    "df"
   ]
  },
  {
   "cell_type": "code",
   "execution_count": 15,
   "id": "3bf1560a",
   "metadata": {},
   "outputs": [
    {
     "data": {
      "text/plain": [
       "Airline            0\n",
       "Date_of_Journey    0\n",
       "Source             0\n",
       "Destination        0\n",
       "Route              0\n",
       "Dep_Time           0\n",
       "Arrival_Time       0\n",
       "Duration           0\n",
       "Total_Stops        0\n",
       "Additional_Info    0\n",
       "Price              0\n",
       "dtype: int64"
      ]
     },
     "execution_count": 15,
     "metadata": {},
     "output_type": "execute_result"
    }
   ],
   "source": [
    "df.isnull().sum()"
   ]
  },
  {
   "cell_type": "markdown",
   "id": "2586823a",
   "metadata": {},
   "source": [
    "Now there is no NUll value present in given Dataset"
   ]
  },
  {
   "cell_type": "markdown",
   "id": "b32745fd",
   "metadata": {},
   "source": [
    "# USe OrdinalEncoder Class to convert Object values into Numeric values"
   ]
  },
  {
   "cell_type": "code",
   "execution_count": 16,
   "id": "b5c8a8dd",
   "metadata": {},
   "outputs": [],
   "source": [
    "from sklearn.preprocessing import OrdinalEncoder\n",
    "one=OrdinalEncoder()"
   ]
  },
  {
   "cell_type": "code",
   "execution_count": 17,
   "id": "d39c18c1",
   "metadata": {},
   "outputs": [],
   "source": [
    "for i in df.columns:\n",
    "    if df[i].dtypes=='object':\n",
    "        df[i]=one.fit_transform(df[i].values.reshape(-1,1))"
   ]
  },
  {
   "cell_type": "code",
   "execution_count": 18,
   "id": "73f4aa65",
   "metadata": {},
   "outputs": [
    {
     "data": {
      "text/html": [
       "<div>\n",
       "<style scoped>\n",
       "    .dataframe tbody tr th:only-of-type {\n",
       "        vertical-align: middle;\n",
       "    }\n",
       "\n",
       "    .dataframe tbody tr th {\n",
       "        vertical-align: top;\n",
       "    }\n",
       "\n",
       "    .dataframe thead th {\n",
       "        text-align: right;\n",
       "    }\n",
       "</style>\n",
       "<table border=\"1\" class=\"dataframe\">\n",
       "  <thead>\n",
       "    <tr style=\"text-align: right;\">\n",
       "      <th></th>\n",
       "      <th>Airline</th>\n",
       "      <th>Date_of_Journey</th>\n",
       "      <th>Source</th>\n",
       "      <th>Destination</th>\n",
       "      <th>Route</th>\n",
       "      <th>Dep_Time</th>\n",
       "      <th>Arrival_Time</th>\n",
       "      <th>Duration</th>\n",
       "      <th>Total_Stops</th>\n",
       "      <th>Additional_Info</th>\n",
       "      <th>Price</th>\n",
       "    </tr>\n",
       "  </thead>\n",
       "  <tbody>\n",
       "    <tr>\n",
       "      <th>0</th>\n",
       "      <td>3.0</td>\n",
       "      <td>24.0</td>\n",
       "      <td>0.0</td>\n",
       "      <td>5.0</td>\n",
       "      <td>18.0</td>\n",
       "      <td>211.0</td>\n",
       "      <td>233.0</td>\n",
       "      <td>240.0</td>\n",
       "      <td>4.0</td>\n",
       "      <td>8.0</td>\n",
       "      <td>3897</td>\n",
       "    </tr>\n",
       "    <tr>\n",
       "      <th>1</th>\n",
       "      <td>1.0</td>\n",
       "      <td>6.0</td>\n",
       "      <td>3.0</td>\n",
       "      <td>0.0</td>\n",
       "      <td>84.0</td>\n",
       "      <td>31.0</td>\n",
       "      <td>906.0</td>\n",
       "      <td>336.0</td>\n",
       "      <td>1.0</td>\n",
       "      <td>8.0</td>\n",
       "      <td>7662</td>\n",
       "    </tr>\n",
       "    <tr>\n",
       "      <th>2</th>\n",
       "      <td>4.0</td>\n",
       "      <td>43.0</td>\n",
       "      <td>2.0</td>\n",
       "      <td>1.0</td>\n",
       "      <td>118.0</td>\n",
       "      <td>70.0</td>\n",
       "      <td>413.0</td>\n",
       "      <td>106.0</td>\n",
       "      <td>1.0</td>\n",
       "      <td>8.0</td>\n",
       "      <td>13882</td>\n",
       "    </tr>\n",
       "    <tr>\n",
       "      <th>3</th>\n",
       "      <td>3.0</td>\n",
       "      <td>10.0</td>\n",
       "      <td>3.0</td>\n",
       "      <td>0.0</td>\n",
       "      <td>91.0</td>\n",
       "      <td>164.0</td>\n",
       "      <td>1324.0</td>\n",
       "      <td>311.0</td>\n",
       "      <td>0.0</td>\n",
       "      <td>8.0</td>\n",
       "      <td>6218</td>\n",
       "    </tr>\n",
       "    <tr>\n",
       "      <th>4</th>\n",
       "      <td>3.0</td>\n",
       "      <td>0.0</td>\n",
       "      <td>0.0</td>\n",
       "      <td>5.0</td>\n",
       "      <td>29.0</td>\n",
       "      <td>149.0</td>\n",
       "      <td>1237.0</td>\n",
       "      <td>303.0</td>\n",
       "      <td>0.0</td>\n",
       "      <td>8.0</td>\n",
       "      <td>13302</td>\n",
       "    </tr>\n",
       "    <tr>\n",
       "      <th>...</th>\n",
       "      <td>...</td>\n",
       "      <td>...</td>\n",
       "      <td>...</td>\n",
       "      <td>...</td>\n",
       "      <td>...</td>\n",
       "      <td>...</td>\n",
       "      <td>...</td>\n",
       "      <td>...</td>\n",
       "      <td>...</td>\n",
       "      <td>...</td>\n",
       "      <td>...</td>\n",
       "    </tr>\n",
       "    <tr>\n",
       "      <th>10678</th>\n",
       "      <td>0.0</td>\n",
       "      <td>41.0</td>\n",
       "      <td>3.0</td>\n",
       "      <td>0.0</td>\n",
       "      <td>64.0</td>\n",
       "      <td>183.0</td>\n",
       "      <td>1259.0</td>\n",
       "      <td>236.0</td>\n",
       "      <td>4.0</td>\n",
       "      <td>8.0</td>\n",
       "      <td>4107</td>\n",
       "    </tr>\n",
       "    <tr>\n",
       "      <th>10679</th>\n",
       "      <td>1.0</td>\n",
       "      <td>29.0</td>\n",
       "      <td>3.0</td>\n",
       "      <td>0.0</td>\n",
       "      <td>64.0</td>\n",
       "      <td>193.0</td>\n",
       "      <td>1305.0</td>\n",
       "      <td>237.0</td>\n",
       "      <td>4.0</td>\n",
       "      <td>8.0</td>\n",
       "      <td>4145</td>\n",
       "    </tr>\n",
       "    <tr>\n",
       "      <th>10680</th>\n",
       "      <td>4.0</td>\n",
       "      <td>29.0</td>\n",
       "      <td>0.0</td>\n",
       "      <td>2.0</td>\n",
       "      <td>18.0</td>\n",
       "      <td>58.0</td>\n",
       "      <td>824.0</td>\n",
       "      <td>280.0</td>\n",
       "      <td>4.0</td>\n",
       "      <td>8.0</td>\n",
       "      <td>7229</td>\n",
       "    </tr>\n",
       "    <tr>\n",
       "      <th>10681</th>\n",
       "      <td>10.0</td>\n",
       "      <td>0.0</td>\n",
       "      <td>0.0</td>\n",
       "      <td>5.0</td>\n",
       "      <td>18.0</td>\n",
       "      <td>92.0</td>\n",
       "      <td>938.0</td>\n",
       "      <td>238.0</td>\n",
       "      <td>4.0</td>\n",
       "      <td>8.0</td>\n",
       "      <td>12648</td>\n",
       "    </tr>\n",
       "    <tr>\n",
       "      <th>10682</th>\n",
       "      <td>1.0</td>\n",
       "      <td>42.0</td>\n",
       "      <td>2.0</td>\n",
       "      <td>1.0</td>\n",
       "      <td>108.0</td>\n",
       "      <td>85.0</td>\n",
       "      <td>1124.0</td>\n",
       "      <td>347.0</td>\n",
       "      <td>1.0</td>\n",
       "      <td>8.0</td>\n",
       "      <td>11753</td>\n",
       "    </tr>\n",
       "  </tbody>\n",
       "</table>\n",
       "<p>10683 rows × 11 columns</p>\n",
       "</div>"
      ],
      "text/plain": [
       "       Airline  Date_of_Journey  Source  Destination  Route  Dep_Time  \\\n",
       "0          3.0             24.0     0.0          5.0   18.0     211.0   \n",
       "1          1.0              6.0     3.0          0.0   84.0      31.0   \n",
       "2          4.0             43.0     2.0          1.0  118.0      70.0   \n",
       "3          3.0             10.0     3.0          0.0   91.0     164.0   \n",
       "4          3.0              0.0     0.0          5.0   29.0     149.0   \n",
       "...        ...              ...     ...          ...    ...       ...   \n",
       "10678      0.0             41.0     3.0          0.0   64.0     183.0   \n",
       "10679      1.0             29.0     3.0          0.0   64.0     193.0   \n",
       "10680      4.0             29.0     0.0          2.0   18.0      58.0   \n",
       "10681     10.0              0.0     0.0          5.0   18.0      92.0   \n",
       "10682      1.0             42.0     2.0          1.0  108.0      85.0   \n",
       "\n",
       "       Arrival_Time  Duration  Total_Stops  Additional_Info  Price  \n",
       "0             233.0     240.0          4.0              8.0   3897  \n",
       "1             906.0     336.0          1.0              8.0   7662  \n",
       "2             413.0     106.0          1.0              8.0  13882  \n",
       "3            1324.0     311.0          0.0              8.0   6218  \n",
       "4            1237.0     303.0          0.0              8.0  13302  \n",
       "...             ...       ...          ...              ...    ...  \n",
       "10678        1259.0     236.0          4.0              8.0   4107  \n",
       "10679        1305.0     237.0          4.0              8.0   4145  \n",
       "10680         824.0     280.0          4.0              8.0   7229  \n",
       "10681         938.0     238.0          4.0              8.0  12648  \n",
       "10682        1124.0     347.0          1.0              8.0  11753  \n",
       "\n",
       "[10683 rows x 11 columns]"
      ]
     },
     "execution_count": 18,
     "metadata": {},
     "output_type": "execute_result"
    }
   ],
   "source": [
    "df"
   ]
  },
  {
   "cell_type": "markdown",
   "id": "626d674b",
   "metadata": {},
   "source": [
    "# Finding Correlation for given DataSet"
   ]
  },
  {
   "cell_type": "code",
   "execution_count": 19,
   "id": "e5f3dfe4",
   "metadata": {},
   "outputs": [
    {
     "data": {
      "text/html": [
       "<div>\n",
       "<style scoped>\n",
       "    .dataframe tbody tr th:only-of-type {\n",
       "        vertical-align: middle;\n",
       "    }\n",
       "\n",
       "    .dataframe tbody tr th {\n",
       "        vertical-align: top;\n",
       "    }\n",
       "\n",
       "    .dataframe thead th {\n",
       "        text-align: right;\n",
       "    }\n",
       "</style>\n",
       "<table border=\"1\" class=\"dataframe\">\n",
       "  <thead>\n",
       "    <tr style=\"text-align: right;\">\n",
       "      <th></th>\n",
       "      <th>Airline</th>\n",
       "      <th>Date_of_Journey</th>\n",
       "      <th>Source</th>\n",
       "      <th>Destination</th>\n",
       "      <th>Route</th>\n",
       "      <th>Dep_Time</th>\n",
       "      <th>Arrival_Time</th>\n",
       "      <th>Duration</th>\n",
       "      <th>Total_Stops</th>\n",
       "      <th>Additional_Info</th>\n",
       "      <th>Price</th>\n",
       "    </tr>\n",
       "  </thead>\n",
       "  <tbody>\n",
       "    <tr>\n",
       "      <th>Airline</th>\n",
       "      <td>1.000000</td>\n",
       "      <td>0.022251</td>\n",
       "      <td>-0.013401</td>\n",
       "      <td>0.018479</td>\n",
       "      <td>0.025118</td>\n",
       "      <td>-0.039439</td>\n",
       "      <td>-0.015733</td>\n",
       "      <td>0.027917</td>\n",
       "      <td>0.036064</td>\n",
       "      <td>-0.060802</td>\n",
       "      <td>-0.039520</td>\n",
       "    </tr>\n",
       "    <tr>\n",
       "      <th>Date_of_Journey</th>\n",
       "      <td>0.022251</td>\n",
       "      <td>1.000000</td>\n",
       "      <td>0.167549</td>\n",
       "      <td>-0.273357</td>\n",
       "      <td>0.275181</td>\n",
       "      <td>-0.007836</td>\n",
       "      <td>-0.012507</td>\n",
       "      <td>-0.001168</td>\n",
       "      <td>-0.044152</td>\n",
       "      <td>0.008382</td>\n",
       "      <td>-0.036942</td>\n",
       "    </tr>\n",
       "    <tr>\n",
       "      <th>Source</th>\n",
       "      <td>-0.013401</td>\n",
       "      <td>0.167549</td>\n",
       "      <td>1.000000</td>\n",
       "      <td>-0.592574</td>\n",
       "      <td>0.403403</td>\n",
       "      <td>0.055191</td>\n",
       "      <td>0.020844</td>\n",
       "      <td>-0.192009</td>\n",
       "      <td>-0.225601</td>\n",
       "      <td>-0.022107</td>\n",
       "      <td>0.015998</td>\n",
       "    </tr>\n",
       "    <tr>\n",
       "      <th>Destination</th>\n",
       "      <td>0.018479</td>\n",
       "      <td>-0.273357</td>\n",
       "      <td>-0.592574</td>\n",
       "      <td>1.000000</td>\n",
       "      <td>-0.461183</td>\n",
       "      <td>-0.063608</td>\n",
       "      <td>-0.036830</td>\n",
       "      <td>0.022037</td>\n",
       "      <td>0.337883</td>\n",
       "      <td>0.026806</td>\n",
       "      <td>-0.071112</td>\n",
       "    </tr>\n",
       "    <tr>\n",
       "      <th>Route</th>\n",
       "      <td>0.025118</td>\n",
       "      <td>0.275181</td>\n",
       "      <td>0.403403</td>\n",
       "      <td>-0.461183</td>\n",
       "      <td>1.000000</td>\n",
       "      <td>-0.082051</td>\n",
       "      <td>0.010560</td>\n",
       "      <td>-0.062097</td>\n",
       "      <td>-0.437783</td>\n",
       "      <td>0.035188</td>\n",
       "      <td>0.164118</td>\n",
       "    </tr>\n",
       "    <tr>\n",
       "      <th>Dep_Time</th>\n",
       "      <td>-0.039439</td>\n",
       "      <td>-0.007836</td>\n",
       "      <td>0.055191</td>\n",
       "      <td>-0.063608</td>\n",
       "      <td>-0.082051</td>\n",
       "      <td>1.000000</td>\n",
       "      <td>-0.023294</td>\n",
       "      <td>0.041619</td>\n",
       "      <td>0.044687</td>\n",
       "      <td>-0.052853</td>\n",
       "      <td>0.002949</td>\n",
       "    </tr>\n",
       "    <tr>\n",
       "      <th>Arrival_Time</th>\n",
       "      <td>-0.015733</td>\n",
       "      <td>-0.012507</td>\n",
       "      <td>0.020844</td>\n",
       "      <td>-0.036830</td>\n",
       "      <td>0.010560</td>\n",
       "      <td>-0.023294</td>\n",
       "      <td>1.000000</td>\n",
       "      <td>0.027746</td>\n",
       "      <td>-0.097132</td>\n",
       "      <td>0.017505</td>\n",
       "      <td>0.027377</td>\n",
       "    </tr>\n",
       "    <tr>\n",
       "      <th>Duration</th>\n",
       "      <td>0.027917</td>\n",
       "      <td>-0.001168</td>\n",
       "      <td>-0.192009</td>\n",
       "      <td>0.022037</td>\n",
       "      <td>-0.062097</td>\n",
       "      <td>0.041619</td>\n",
       "      <td>0.027746</td>\n",
       "      <td>1.000000</td>\n",
       "      <td>0.175207</td>\n",
       "      <td>0.080151</td>\n",
       "      <td>-0.144270</td>\n",
       "    </tr>\n",
       "    <tr>\n",
       "      <th>Total_Stops</th>\n",
       "      <td>0.036064</td>\n",
       "      <td>-0.044152</td>\n",
       "      <td>-0.225601</td>\n",
       "      <td>0.337883</td>\n",
       "      <td>-0.437783</td>\n",
       "      <td>0.044687</td>\n",
       "      <td>-0.097132</td>\n",
       "      <td>0.175207</td>\n",
       "      <td>1.000000</td>\n",
       "      <td>0.164009</td>\n",
       "      <td>-0.571174</td>\n",
       "    </tr>\n",
       "    <tr>\n",
       "      <th>Additional_Info</th>\n",
       "      <td>-0.060802</td>\n",
       "      <td>0.008382</td>\n",
       "      <td>-0.022107</td>\n",
       "      <td>0.026806</td>\n",
       "      <td>0.035188</td>\n",
       "      <td>-0.052853</td>\n",
       "      <td>0.017505</td>\n",
       "      <td>0.080151</td>\n",
       "      <td>0.164009</td>\n",
       "      <td>1.000000</td>\n",
       "      <td>-0.065478</td>\n",
       "    </tr>\n",
       "    <tr>\n",
       "      <th>Price</th>\n",
       "      <td>-0.039520</td>\n",
       "      <td>-0.036942</td>\n",
       "      <td>0.015998</td>\n",
       "      <td>-0.071112</td>\n",
       "      <td>0.164118</td>\n",
       "      <td>0.002949</td>\n",
       "      <td>0.027377</td>\n",
       "      <td>-0.144270</td>\n",
       "      <td>-0.571174</td>\n",
       "      <td>-0.065478</td>\n",
       "      <td>1.000000</td>\n",
       "    </tr>\n",
       "  </tbody>\n",
       "</table>\n",
       "</div>"
      ],
      "text/plain": [
       "                  Airline  Date_of_Journey    Source  Destination     Route  \\\n",
       "Airline          1.000000         0.022251 -0.013401     0.018479  0.025118   \n",
       "Date_of_Journey  0.022251         1.000000  0.167549    -0.273357  0.275181   \n",
       "Source          -0.013401         0.167549  1.000000    -0.592574  0.403403   \n",
       "Destination      0.018479        -0.273357 -0.592574     1.000000 -0.461183   \n",
       "Route            0.025118         0.275181  0.403403    -0.461183  1.000000   \n",
       "Dep_Time        -0.039439        -0.007836  0.055191    -0.063608 -0.082051   \n",
       "Arrival_Time    -0.015733        -0.012507  0.020844    -0.036830  0.010560   \n",
       "Duration         0.027917        -0.001168 -0.192009     0.022037 -0.062097   \n",
       "Total_Stops      0.036064        -0.044152 -0.225601     0.337883 -0.437783   \n",
       "Additional_Info -0.060802         0.008382 -0.022107     0.026806  0.035188   \n",
       "Price           -0.039520        -0.036942  0.015998    -0.071112  0.164118   \n",
       "\n",
       "                 Dep_Time  Arrival_Time  Duration  Total_Stops  \\\n",
       "Airline         -0.039439     -0.015733  0.027917     0.036064   \n",
       "Date_of_Journey -0.007836     -0.012507 -0.001168    -0.044152   \n",
       "Source           0.055191      0.020844 -0.192009    -0.225601   \n",
       "Destination     -0.063608     -0.036830  0.022037     0.337883   \n",
       "Route           -0.082051      0.010560 -0.062097    -0.437783   \n",
       "Dep_Time         1.000000     -0.023294  0.041619     0.044687   \n",
       "Arrival_Time    -0.023294      1.000000  0.027746    -0.097132   \n",
       "Duration         0.041619      0.027746  1.000000     0.175207   \n",
       "Total_Stops      0.044687     -0.097132  0.175207     1.000000   \n",
       "Additional_Info -0.052853      0.017505  0.080151     0.164009   \n",
       "Price            0.002949      0.027377 -0.144270    -0.571174   \n",
       "\n",
       "                 Additional_Info     Price  \n",
       "Airline                -0.060802 -0.039520  \n",
       "Date_of_Journey         0.008382 -0.036942  \n",
       "Source                 -0.022107  0.015998  \n",
       "Destination             0.026806 -0.071112  \n",
       "Route                   0.035188  0.164118  \n",
       "Dep_Time               -0.052853  0.002949  \n",
       "Arrival_Time            0.017505  0.027377  \n",
       "Duration                0.080151 -0.144270  \n",
       "Total_Stops             0.164009 -0.571174  \n",
       "Additional_Info         1.000000 -0.065478  \n",
       "Price                  -0.065478  1.000000  "
      ]
     },
     "execution_count": 19,
     "metadata": {},
     "output_type": "execute_result"
    }
   ],
   "source": [
    "df.corr()"
   ]
  },
  {
   "cell_type": "code",
   "execution_count": 20,
   "id": "77bb9079",
   "metadata": {},
   "outputs": [
    {
     "data": {
      "text/plain": [
       "Total_Stops       -0.571174\n",
       "Duration          -0.144270\n",
       "Destination       -0.071112\n",
       "Additional_Info   -0.065478\n",
       "Airline           -0.039520\n",
       "Date_of_Journey   -0.036942\n",
       "Dep_Time           0.002949\n",
       "Source             0.015998\n",
       "Arrival_Time       0.027377\n",
       "Route              0.164118\n",
       "Price              1.000000\n",
       "Name: Price, dtype: float64"
      ]
     },
     "execution_count": 20,
     "metadata": {},
     "output_type": "execute_result"
    }
   ],
   "source": [
    "df.corr()['Price'].sort_values()"
   ]
  },
  {
   "cell_type": "code",
   "execution_count": 21,
   "id": "8741b4bb",
   "metadata": {},
   "outputs": [
    {
     "data": {
      "text/plain": [
       "<AxesSubplot:>"
      ]
     },
     "execution_count": 21,
     "metadata": {},
     "output_type": "execute_result"
    },
    {
     "data": {
      "image/png": "[encoded data removed]",
      "text/plain": [
       "<Figure size 1080x504 with 2 Axes>"
      ]
     },
     "metadata": {
      "needs_background": "light"
     },
     "output_type": "display_data"
    }
   ],
   "source": [
    "plt.figure(figsize=(15,7))\n",
    "sns.heatmap(df.corr(),annot=True,linewidths=.5,linecolor='Black',fmt='.4f')"
   ]
  },
  {
   "cell_type": "markdown",
   "id": "3132b692",
   "metadata": {},
   "source": [
    "# Describing the given Datasets"
   ]
  },
  {
   "cell_type": "code",
   "execution_count": 22,
   "id": "39cd2dda",
   "metadata": {},
   "outputs": [
    {
     "data": {
      "text/html": [
       "<div>\n",
       "<style scoped>\n",
       "    .dataframe tbody tr th:only-of-type {\n",
       "        vertical-align: middle;\n",
       "    }\n",
       "\n",
       "    .dataframe tbody tr th {\n",
       "        vertical-align: top;\n",
       "    }\n",
       "\n",
       "    .dataframe thead th {\n",
       "        text-align: right;\n",
       "    }\n",
       "</style>\n",
       "<table border=\"1\" class=\"dataframe\">\n",
       "  <thead>\n",
       "    <tr style=\"text-align: right;\">\n",
       "      <th></th>\n",
       "      <th>Airline</th>\n",
       "      <th>Date_of_Journey</th>\n",
       "      <th>Source</th>\n",
       "      <th>Destination</th>\n",
       "      <th>Route</th>\n",
       "      <th>Dep_Time</th>\n",
       "      <th>Arrival_Time</th>\n",
       "      <th>Duration</th>\n",
       "      <th>Total_Stops</th>\n",
       "      <th>Additional_Info</th>\n",
       "      <th>Price</th>\n",
       "    </tr>\n",
       "  </thead>\n",
       "  <tbody>\n",
       "    <tr>\n",
       "      <th>count</th>\n",
       "      <td>10683.000000</td>\n",
       "      <td>10683.000000</td>\n",
       "      <td>10683.000000</td>\n",
       "      <td>10683.000000</td>\n",
       "      <td>10683.000000</td>\n",
       "      <td>10683.000000</td>\n",
       "      <td>10683.000000</td>\n",
       "      <td>10683.000000</td>\n",
       "      <td>10683.000000</td>\n",
       "      <td>10683.000000</td>\n",
       "      <td>10683.000000</td>\n",
       "    </tr>\n",
       "    <tr>\n",
       "      <th>mean</th>\n",
       "      <td>3.965927</td>\n",
       "      <td>23.735093</td>\n",
       "      <td>1.952261</td>\n",
       "      <td>1.436113</td>\n",
       "      <td>74.822896</td>\n",
       "      <td>107.980717</td>\n",
       "      <td>869.828419</td>\n",
       "      <td>194.069269</td>\n",
       "      <td>1.458111</td>\n",
       "      <td>7.393054</td>\n",
       "      <td>9087.064121</td>\n",
       "    </tr>\n",
       "    <tr>\n",
       "      <th>std</th>\n",
       "      <td>2.352155</td>\n",
       "      <td>12.337763</td>\n",
       "      <td>1.177221</td>\n",
       "      <td>1.474782</td>\n",
       "      <td>36.728405</td>\n",
       "      <td>61.085563</td>\n",
       "      <td>331.509504</td>\n",
       "      <td>108.620556</td>\n",
       "      <td>1.806290</td>\n",
       "      <td>1.214211</td>\n",
       "      <td>4611.359167</td>\n",
       "    </tr>\n",
       "    <tr>\n",
       "      <th>min</th>\n",
       "      <td>0.000000</td>\n",
       "      <td>0.000000</td>\n",
       "      <td>0.000000</td>\n",
       "      <td>0.000000</td>\n",
       "      <td>0.000000</td>\n",
       "      <td>0.000000</td>\n",
       "      <td>0.000000</td>\n",
       "      <td>0.000000</td>\n",
       "      <td>0.000000</td>\n",
       "      <td>0.000000</td>\n",
       "      <td>1759.000000</td>\n",
       "    </tr>\n",
       "    <tr>\n",
       "      <th>25%</th>\n",
       "      <td>3.000000</td>\n",
       "      <td>14.000000</td>\n",
       "      <td>2.000000</td>\n",
       "      <td>0.000000</td>\n",
       "      <td>48.000000</td>\n",
       "      <td>55.000000</td>\n",
       "      <td>603.000000</td>\n",
       "      <td>106.000000</td>\n",
       "      <td>0.000000</td>\n",
       "      <td>8.000000</td>\n",
       "      <td>5277.000000</td>\n",
       "    </tr>\n",
       "    <tr>\n",
       "      <th>50%</th>\n",
       "      <td>4.000000</td>\n",
       "      <td>24.000000</td>\n",
       "      <td>2.000000</td>\n",
       "      <td>1.000000</td>\n",
       "      <td>73.000000</td>\n",
       "      <td>96.000000</td>\n",
       "      <td>937.000000</td>\n",
       "      <td>233.000000</td>\n",
       "      <td>0.000000</td>\n",
       "      <td>8.000000</td>\n",
       "      <td>8372.000000</td>\n",
       "    </tr>\n",
       "    <tr>\n",
       "      <th>75%</th>\n",
       "      <td>4.000000</td>\n",
       "      <td>35.000000</td>\n",
       "      <td>3.000000</td>\n",
       "      <td>2.000000</td>\n",
       "      <td>104.000000</td>\n",
       "      <td>164.000000</td>\n",
       "      <td>1141.000000</td>\n",
       "      <td>280.000000</td>\n",
       "      <td>4.000000</td>\n",
       "      <td>8.000000</td>\n",
       "      <td>12373.000000</td>\n",
       "    </tr>\n",
       "    <tr>\n",
       "      <th>max</th>\n",
       "      <td>11.000000</td>\n",
       "      <td>43.000000</td>\n",
       "      <td>4.000000</td>\n",
       "      <td>5.000000</td>\n",
       "      <td>127.000000</td>\n",
       "      <td>221.000000</td>\n",
       "      <td>1342.000000</td>\n",
       "      <td>367.000000</td>\n",
       "      <td>4.000000</td>\n",
       "      <td>9.000000</td>\n",
       "      <td>79512.000000</td>\n",
       "    </tr>\n",
       "  </tbody>\n",
       "</table>\n",
       "</div>"
      ],
      "text/plain": [
       "            Airline  Date_of_Journey        Source   Destination  \\\n",
       "count  10683.000000     10683.000000  10683.000000  10683.000000   \n",
       "mean       3.965927        23.735093      1.952261      1.436113   \n",
       "std        2.352155        12.337763      1.177221      1.474782   \n",
       "min        0.000000         0.000000      0.000000      0.000000   \n",
       "25%        3.000000        14.000000      2.000000      0.000000   \n",
       "50%        4.000000        24.000000      2.000000      1.000000   \n",
       "75%        4.000000        35.000000      3.000000      2.000000   \n",
       "max       11.000000        43.000000      4.000000      5.000000   \n",
       "\n",
       "              Route      Dep_Time  Arrival_Time      Duration   Total_Stops  \\\n",
       "count  10683.000000  10683.000000  10683.000000  10683.000000  10683.000000   \n",
       "mean      74.822896    107.980717    869.828419    194.069269      1.458111   \n",
       "std       36.728405     61.085563    331.509504    108.620556      1.806290   \n",
       "min        0.000000      0.000000      0.000000      0.000000      0.000000   \n",
       "25%       48.000000     55.000000    603.000000    106.000000      0.000000   \n",
       "50%       73.000000     96.000000    937.000000    233.000000      0.000000   \n",
       "75%      104.000000    164.000000   1141.000000    280.000000      4.000000   \n",
       "max      127.000000    221.000000   1342.000000    367.000000      4.000000   \n",
       "\n",
       "       Additional_Info         Price  \n",
       "count     10683.000000  10683.000000  \n",
       "mean          7.393054   9087.064121  \n",
       "std           1.214211   4611.359167  \n",
       "min           0.000000   1759.000000  \n",
       "25%           8.000000   5277.000000  \n",
       "50%           8.000000   8372.000000  \n",
       "75%           8.000000  12373.000000  \n",
       "max           9.000000  79512.000000  "
      ]
     },
     "execution_count": 22,
     "metadata": {},
     "output_type": "execute_result"
    }
   ],
   "source": [
    "df.describe()"
   ]
  },
  {
   "cell_type": "code",
   "execution_count": 23,
   "id": "a26d7b6d",
   "metadata": {},
   "outputs": [
    {
     "data": {
      "text/plain": [
       "<AxesSubplot:>"
      ]
     },
     "execution_count": 23,
     "metadata": {},
     "output_type": "execute_result"
    },
    {
     "data": {
      "image/png": "[encoded data removed]",
      "text/plain": [
       "<Figure size 1080x360 with 2 Axes>"
      ]
     },
     "metadata": {
      "needs_background": "light"
     },
     "output_type": "display_data"
    }
   ],
   "source": [
    "plt.figure(figsize=(15,5))\n",
    "sns.heatmap(round(df.describe()[1:].transpose(),2),annot=True,linewidths=.2,linecolor='Black',fmt='.2f')"
   ]
  },
  {
   "cell_type": "markdown",
   "id": "8c7a6a25",
   "metadata": {},
   "source": [
    "# checking outliers in given Dataset"
   ]
  },
  {
   "cell_type": "code",
   "execution_count": 24,
   "id": "e88a6929",
   "metadata": {},
   "outputs": [
    {
     "data": {
      "text/plain": [
       "Airline                AxesSubplot(0.125,0.71587;0.110714x0.16413)\n",
       "Date_of_Journey     AxesSubplot(0.257857,0.71587;0.110714x0.16413)\n",
       "Source              AxesSubplot(0.390714,0.71587;0.110714x0.16413)\n",
       "Destination         AxesSubplot(0.523571,0.71587;0.110714x0.16413)\n",
       "Route               AxesSubplot(0.656429,0.71587;0.110714x0.16413)\n",
       "Dep_Time            AxesSubplot(0.789286,0.71587;0.110714x0.16413)\n",
       "Arrival_Time          AxesSubplot(0.125,0.518913;0.110714x0.16413)\n",
       "Duration           AxesSubplot(0.257857,0.518913;0.110714x0.16413)\n",
       "Total_Stops        AxesSubplot(0.390714,0.518913;0.110714x0.16413)\n",
       "Additional_Info    AxesSubplot(0.523571,0.518913;0.110714x0.16413)\n",
       "Price              AxesSubplot(0.656429,0.518913;0.110714x0.16413)\n",
       "dtype: object"
      ]
     },
     "execution_count": 24,
     "metadata": {},
     "output_type": "execute_result"
    },
    {
     "data": {
      "image/png": "[encoded data removed]",
      "text/plain": [
       "<Figure size 1440x720 with 24 Axes>"
      ]
     },
     "metadata": {
      "needs_background": "light"
     },
     "output_type": "display_data"
    }
   ],
   "source": [
    "df.plot(kind='box',subplots=True,layout=(4,6),figsize=(20,10))"
   ]
  },
  {
   "cell_type": "markdown",
   "id": "48eba024",
   "metadata": {},
   "source": [
    "Outliers are present in given Datset"
   ]
  },
  {
   "cell_type": "markdown",
   "id": "6492b046",
   "metadata": {},
   "source": [
    "# For Removing the Outliers use zscore Method"
   ]
  },
  {
   "cell_type": "code",
   "execution_count": 25,
   "id": "a980fc51",
   "metadata": {},
   "outputs": [],
   "source": [
    "from scipy.stats import zscore\n",
    "z=np.abs(zscore(df))"
   ]
  },
  {
   "cell_type": "code",
   "execution_count": 26,
   "id": "90273f8c",
   "metadata": {},
   "outputs": [
    {
     "data": {
      "text/html": [
       "<div>\n",
       "<style scoped>\n",
       "    .dataframe tbody tr th:only-of-type {\n",
       "        vertical-align: middle;\n",
       "    }\n",
       "\n",
       "    .dataframe tbody tr th {\n",
       "        vertical-align: top;\n",
       "    }\n",
       "\n",
       "    .dataframe thead th {\n",
       "        text-align: right;\n",
       "    }\n",
       "</style>\n",
       "<table border=\"1\" class=\"dataframe\">\n",
       "  <thead>\n",
       "    <tr style=\"text-align: right;\">\n",
       "      <th></th>\n",
       "      <th>Airline</th>\n",
       "      <th>Date_of_Journey</th>\n",
       "      <th>Source</th>\n",
       "      <th>Destination</th>\n",
       "      <th>Route</th>\n",
       "      <th>Dep_Time</th>\n",
       "      <th>Arrival_Time</th>\n",
       "      <th>Duration</th>\n",
       "      <th>Total_Stops</th>\n",
       "      <th>Additional_Info</th>\n",
       "      <th>Price</th>\n",
       "    </tr>\n",
       "  </thead>\n",
       "  <tbody>\n",
       "    <tr>\n",
       "      <th>0</th>\n",
       "      <td>0.410675</td>\n",
       "      <td>0.021472</td>\n",
       "      <td>1.658441</td>\n",
       "      <td>2.416665</td>\n",
       "      <td>1.547183</td>\n",
       "      <td>1.686554</td>\n",
       "      <td>1.921086</td>\n",
       "      <td>0.422875</td>\n",
       "      <td>1.407309</td>\n",
       "      <td>0.499892</td>\n",
       "      <td>1.125548</td>\n",
       "    </tr>\n",
       "    <tr>\n",
       "      <th>1</th>\n",
       "      <td>1.260999</td>\n",
       "      <td>1.437532</td>\n",
       "      <td>0.890052</td>\n",
       "      <td>0.973826</td>\n",
       "      <td>0.249876</td>\n",
       "      <td>1.260270</td>\n",
       "      <td>0.109117</td>\n",
       "      <td>1.306727</td>\n",
       "      <td>0.253632</td>\n",
       "      <td>0.499892</td>\n",
       "      <td>0.309048</td>\n",
       "    </tr>\n",
       "    <tr>\n",
       "      <th>2</th>\n",
       "      <td>0.014486</td>\n",
       "      <td>1.561532</td>\n",
       "      <td>0.040555</td>\n",
       "      <td>0.295728</td>\n",
       "      <td>1.175633</td>\n",
       "      <td>0.621792</td>\n",
       "      <td>1.378090</td>\n",
       "      <td>0.810835</td>\n",
       "      <td>0.253632</td>\n",
       "      <td>0.499892</td>\n",
       "      <td>1.039858</td>\n",
       "    </tr>\n",
       "    <tr>\n",
       "      <th>3</th>\n",
       "      <td>0.410675</td>\n",
       "      <td>1.113308</td>\n",
       "      <td>0.890052</td>\n",
       "      <td>0.973826</td>\n",
       "      <td>0.440473</td>\n",
       "      <td>0.917105</td>\n",
       "      <td>1.370075</td>\n",
       "      <td>1.076557</td>\n",
       "      <td>0.807278</td>\n",
       "      <td>0.499892</td>\n",
       "      <td>0.622202</td>\n",
       "    </tr>\n",
       "    <tr>\n",
       "      <th>4</th>\n",
       "      <td>0.410675</td>\n",
       "      <td>1.923866</td>\n",
       "      <td>1.658441</td>\n",
       "      <td>2.416665</td>\n",
       "      <td>1.247673</td>\n",
       "      <td>0.671537</td>\n",
       "      <td>1.107627</td>\n",
       "      <td>1.002903</td>\n",
       "      <td>0.807278</td>\n",
       "      <td>0.499892</td>\n",
       "      <td>0.914076</td>\n",
       "    </tr>\n",
       "    <tr>\n",
       "      <th>...</th>\n",
       "      <td>...</td>\n",
       "      <td>...</td>\n",
       "      <td>...</td>\n",
       "      <td>...</td>\n",
       "      <td>...</td>\n",
       "      <td>...</td>\n",
       "      <td>...</td>\n",
       "      <td>...</td>\n",
       "      <td>...</td>\n",
       "      <td>...</td>\n",
       "      <td>...</td>\n",
       "    </tr>\n",
       "    <tr>\n",
       "      <th>10678</th>\n",
       "      <td>1.686161</td>\n",
       "      <td>1.399420</td>\n",
       "      <td>0.890052</td>\n",
       "      <td>0.973826</td>\n",
       "      <td>0.294688</td>\n",
       "      <td>1.228159</td>\n",
       "      <td>1.173993</td>\n",
       "      <td>0.386047</td>\n",
       "      <td>1.407309</td>\n",
       "      <td>0.499892</td>\n",
       "      <td>1.080006</td>\n",
       "    </tr>\n",
       "    <tr>\n",
       "      <th>10679</th>\n",
       "      <td>1.260999</td>\n",
       "      <td>0.426751</td>\n",
       "      <td>0.890052</td>\n",
       "      <td>0.973826</td>\n",
       "      <td>0.294688</td>\n",
       "      <td>1.391872</td>\n",
       "      <td>1.312759</td>\n",
       "      <td>0.395254</td>\n",
       "      <td>1.407309</td>\n",
       "      <td>0.499892</td>\n",
       "      <td>1.071765</td>\n",
       "    </tr>\n",
       "    <tr>\n",
       "      <th>10680</th>\n",
       "      <td>0.014486</td>\n",
       "      <td>0.426751</td>\n",
       "      <td>1.658441</td>\n",
       "      <td>0.382370</td>\n",
       "      <td>1.547183</td>\n",
       "      <td>0.818247</td>\n",
       "      <td>0.138248</td>\n",
       "      <td>0.791146</td>\n",
       "      <td>1.407309</td>\n",
       "      <td>0.499892</td>\n",
       "      <td>0.402951</td>\n",
       "    </tr>\n",
       "    <tr>\n",
       "      <th>10681</th>\n",
       "      <td>2.565458</td>\n",
       "      <td>1.923866</td>\n",
       "      <td>1.658441</td>\n",
       "      <td>2.416665</td>\n",
       "      <td>1.547183</td>\n",
       "      <td>0.261624</td>\n",
       "      <td>0.205650</td>\n",
       "      <td>0.404461</td>\n",
       "      <td>1.407309</td>\n",
       "      <td>0.499892</td>\n",
       "      <td>0.772246</td>\n",
       "    </tr>\n",
       "    <tr>\n",
       "      <th>10682</th>\n",
       "      <td>1.260999</td>\n",
       "      <td>1.480476</td>\n",
       "      <td>0.040555</td>\n",
       "      <td>0.295728</td>\n",
       "      <td>0.903351</td>\n",
       "      <td>0.376223</td>\n",
       "      <td>0.766746</td>\n",
       "      <td>1.408001</td>\n",
       "      <td>0.253632</td>\n",
       "      <td>0.499892</td>\n",
       "      <td>0.578151</td>\n",
       "    </tr>\n",
       "  </tbody>\n",
       "</table>\n",
       "<p>10683 rows × 11 columns</p>\n",
       "</div>"
      ],
      "text/plain": [
       "        Airline  Date_of_Journey    Source  Destination     Route  Dep_Time  \\\n",
       "0      0.410675         0.021472  1.658441     2.416665  1.547183  1.686554   \n",
       "1      1.260999         1.437532  0.890052     0.973826  0.249876  1.260270   \n",
       "2      0.014486         1.561532  0.040555     0.295728  1.175633  0.621792   \n",
       "3      0.410675         1.113308  0.890052     0.973826  0.440473  0.917105   \n",
       "4      0.410675         1.923866  1.658441     2.416665  1.247673  0.671537   \n",
       "...         ...              ...       ...          ...       ...       ...   \n",
       "10678  1.686161         1.399420  0.890052     0.973826  0.294688  1.228159   \n",
       "10679  1.260999         0.426751  0.890052     0.973826  0.294688  1.391872   \n",
       "10680  0.014486         0.426751  1.658441     0.382370  1.547183  0.818247   \n",
       "10681  2.565458         1.923866  1.658441     2.416665  1.547183  0.261624   \n",
       "10682  1.260999         1.480476  0.040555     0.295728  0.903351  0.376223   \n",
       "\n",
       "       Arrival_Time  Duration  Total_Stops  Additional_Info     Price  \n",
       "0          1.921086  0.422875     1.407309         0.499892  1.125548  \n",
       "1          0.109117  1.306727     0.253632         0.499892  0.309048  \n",
       "2          1.378090  0.810835     0.253632         0.499892  1.039858  \n",
       "3          1.370075  1.076557     0.807278         0.499892  0.622202  \n",
       "4          1.107627  1.002903     0.807278         0.499892  0.914076  \n",
       "...             ...       ...          ...              ...       ...  \n",
       "10678      1.173993  0.386047     1.407309         0.499892  1.080006  \n",
       "10679      1.312759  0.395254     1.407309         0.499892  1.071765  \n",
       "10680      0.138248  0.791146     1.407309         0.499892  0.402951  \n",
       "10681      0.205650  0.404461     1.407309         0.499892  0.772246  \n",
       "10682      0.766746  1.408001     0.253632         0.499892  0.578151  \n",
       "\n",
       "[10683 rows x 11 columns]"
      ]
     },
     "execution_count": 26,
     "metadata": {},
     "output_type": "execute_result"
    }
   ],
   "source": [
    "z"
   ]
  },
  {
   "cell_type": "code",
   "execution_count": 27,
   "id": "2309aa83",
   "metadata": {},
   "outputs": [
    {
     "name": "stdout",
     "output_type": "stream",
     "text": [
      "(array([  123,   396,   486,   510,   597,   628,   657,   785,   785,\n",
      "         826,   936,   946,   959,   975,  1043,  1196,  1246,  1341,\n",
      "        1424,  1466,  1478,  1629,  1654,  1785,  1918,  2055,  2079,\n",
      "        2099,  2108,  2405,  2481,  2495,  2495,  2556,  2556,  2618,\n",
      "        2635,  2693,  2924,  2924,  3032,  3032,  3111,  3111,  3257,\n",
      "        3400,  3535,  3700,  3700,  3788,  4012,  4521,  4521,  4676,\n",
      "        4829,  5013,  5013,  5136,  5372,  5372,  5439,  5628,  5662,\n",
      "        5701,  5710,  5719,  5738,  5745,  5856,  5986,  6024,  6314,\n",
      "        6336,  6407,  6576,  6576,  6588,  6605,  6991,  7351,  7356,\n",
      "        7377,  7537,  7554,  7617,  7713,  7724,  7724,  7756,  7902,\n",
      "        8020,  8080,  8451,  8470,  8536,  8598,  8856,  8940,  8957,\n",
      "        8957,  8990,  9019,  9019,  9193,  9239,  9632,  9657,  9715,\n",
      "        9974, 10052, 10113, 10160, 10182, 10189, 10353, 10364, 10364,\n",
      "       10383, 10439, 10511, 10511], dtype=int64), array([10, 10, 10, 10, 10, 10, 10,  9, 10, 10, 10, 10, 10, 10,  9, 10, 10,\n",
      "       10, 10, 10, 10, 10, 10, 10, 10, 10,  9, 10, 10,  9,  9,  9, 10,  9,\n",
      "       10, 10, 10, 10,  9, 10,  9, 10,  9, 10, 10, 10, 10,  9, 10,  9, 10,\n",
      "        9, 10, 10, 10,  9, 10, 10,  9, 10, 10,  9, 10, 10, 10, 10, 10, 10,\n",
      "       10, 10,  9, 10,  9, 10,  9, 10, 10, 10, 10, 10, 10, 10, 10, 10, 10,\n",
      "       10,  9, 10, 10, 10, 10, 10, 10, 10, 10, 10, 10, 10,  9, 10, 10,  9,\n",
      "       10, 10, 10, 10,  9, 10, 10, 10, 10, 10, 10, 10, 10,  9, 10, 10, 10,\n",
      "        9, 10], dtype=int64))\n"
     ]
    }
   ],
   "source": [
    "thresold=3\n",
    "print(np.where(z>3))"
   ]
  },
  {
   "cell_type": "code",
   "execution_count": 28,
   "id": "5c2b4d74",
   "metadata": {},
   "outputs": [
    {
     "data": {
      "text/plain": [
       "Airline            1.260999\n",
       "Date_of_Journey    1.599643\n",
       "Source             0.040555\n",
       "Destination        0.295728\n",
       "Route              0.794439\n",
       "Dep_Time           1.784782\n",
       "Arrival_Time       0.772779\n",
       "Duration           0.635906\n",
       "Total_Stops        0.807278\n",
       "Additional_Info    0.499892\n",
       "Price              3.977958\n",
       "Name: 123, dtype: float64"
      ]
     },
     "execution_count": 28,
     "metadata": {},
     "output_type": "execute_result"
    }
   ],
   "source": [
    "z.iloc[123]"
   ]
  },
  {
   "cell_type": "code",
   "execution_count": 29,
   "id": "2a049c58",
   "metadata": {},
   "outputs": [
    {
     "data": {
      "text/plain": [
       "<function print>"
      ]
     },
     "execution_count": 29,
     "metadata": {},
     "output_type": "execute_result"
    }
   ],
   "source": [
    "print"
   ]
  },
  {
   "cell_type": "code",
   "execution_count": 30,
   "id": "e877c778",
   "metadata": {},
   "outputs": [],
   "source": [
    "df_new=df[(z<3).all(axis=1)]"
   ]
  },
  {
   "cell_type": "code",
   "execution_count": 31,
   "id": "c087b9ea",
   "metadata": {},
   "outputs": [
    {
     "data": {
      "text/html": [
       "<div>\n",
       "<style scoped>\n",
       "    .dataframe tbody tr th:only-of-type {\n",
       "        vertical-align: middle;\n",
       "    }\n",
       "\n",
       "    .dataframe tbody tr th {\n",
       "        vertical-align: top;\n",
       "    }\n",
       "\n",
       "    .dataframe thead th {\n",
       "        text-align: right;\n",
       "    }\n",
       "</style>\n",
       "<table border=\"1\" class=\"dataframe\">\n",
       "  <thead>\n",
       "    <tr style=\"text-align: right;\">\n",
       "      <th></th>\n",
       "      <th>Airline</th>\n",
       "      <th>Date_of_Journey</th>\n",
       "      <th>Source</th>\n",
       "      <th>Destination</th>\n",
       "      <th>Route</th>\n",
       "      <th>Dep_Time</th>\n",
       "      <th>Arrival_Time</th>\n",
       "      <th>Duration</th>\n",
       "      <th>Total_Stops</th>\n",
       "      <th>Additional_Info</th>\n",
       "      <th>Price</th>\n",
       "    </tr>\n",
       "  </thead>\n",
       "  <tbody>\n",
       "    <tr>\n",
       "      <th>0</th>\n",
       "      <td>3.0</td>\n",
       "      <td>24.0</td>\n",
       "      <td>0.0</td>\n",
       "      <td>5.0</td>\n",
       "      <td>18.0</td>\n",
       "      <td>211.0</td>\n",
       "      <td>233.0</td>\n",
       "      <td>240.0</td>\n",
       "      <td>4.0</td>\n",
       "      <td>8.0</td>\n",
       "      <td>3897</td>\n",
       "    </tr>\n",
       "    <tr>\n",
       "      <th>1</th>\n",
       "      <td>1.0</td>\n",
       "      <td>6.0</td>\n",
       "      <td>3.0</td>\n",
       "      <td>0.0</td>\n",
       "      <td>84.0</td>\n",
       "      <td>31.0</td>\n",
       "      <td>906.0</td>\n",
       "      <td>336.0</td>\n",
       "      <td>1.0</td>\n",
       "      <td>8.0</td>\n",
       "      <td>7662</td>\n",
       "    </tr>\n",
       "    <tr>\n",
       "      <th>2</th>\n",
       "      <td>4.0</td>\n",
       "      <td>43.0</td>\n",
       "      <td>2.0</td>\n",
       "      <td>1.0</td>\n",
       "      <td>118.0</td>\n",
       "      <td>70.0</td>\n",
       "      <td>413.0</td>\n",
       "      <td>106.0</td>\n",
       "      <td>1.0</td>\n",
       "      <td>8.0</td>\n",
       "      <td>13882</td>\n",
       "    </tr>\n",
       "    <tr>\n",
       "      <th>3</th>\n",
       "      <td>3.0</td>\n",
       "      <td>10.0</td>\n",
       "      <td>3.0</td>\n",
       "      <td>0.0</td>\n",
       "      <td>91.0</td>\n",
       "      <td>164.0</td>\n",
       "      <td>1324.0</td>\n",
       "      <td>311.0</td>\n",
       "      <td>0.0</td>\n",
       "      <td>8.0</td>\n",
       "      <td>6218</td>\n",
       "    </tr>\n",
       "    <tr>\n",
       "      <th>4</th>\n",
       "      <td>3.0</td>\n",
       "      <td>0.0</td>\n",
       "      <td>0.0</td>\n",
       "      <td>5.0</td>\n",
       "      <td>29.0</td>\n",
       "      <td>149.0</td>\n",
       "      <td>1237.0</td>\n",
       "      <td>303.0</td>\n",
       "      <td>0.0</td>\n",
       "      <td>8.0</td>\n",
       "      <td>13302</td>\n",
       "    </tr>\n",
       "    <tr>\n",
       "      <th>...</th>\n",
       "      <td>...</td>\n",
       "      <td>...</td>\n",
       "      <td>...</td>\n",
       "      <td>...</td>\n",
       "      <td>...</td>\n",
       "      <td>...</td>\n",
       "      <td>...</td>\n",
       "      <td>...</td>\n",
       "      <td>...</td>\n",
       "      <td>...</td>\n",
       "      <td>...</td>\n",
       "    </tr>\n",
       "    <tr>\n",
       "      <th>10678</th>\n",
       "      <td>0.0</td>\n",
       "      <td>41.0</td>\n",
       "      <td>3.0</td>\n",
       "      <td>0.0</td>\n",
       "      <td>64.0</td>\n",
       "      <td>183.0</td>\n",
       "      <td>1259.0</td>\n",
       "      <td>236.0</td>\n",
       "      <td>4.0</td>\n",
       "      <td>8.0</td>\n",
       "      <td>4107</td>\n",
       "    </tr>\n",
       "    <tr>\n",
       "      <th>10679</th>\n",
       "      <td>1.0</td>\n",
       "      <td>29.0</td>\n",
       "      <td>3.0</td>\n",
       "      <td>0.0</td>\n",
       "      <td>64.0</td>\n",
       "      <td>193.0</td>\n",
       "      <td>1305.0</td>\n",
       "      <td>237.0</td>\n",
       "      <td>4.0</td>\n",
       "      <td>8.0</td>\n",
       "      <td>4145</td>\n",
       "    </tr>\n",
       "    <tr>\n",
       "      <th>10680</th>\n",
       "      <td>4.0</td>\n",
       "      <td>29.0</td>\n",
       "      <td>0.0</td>\n",
       "      <td>2.0</td>\n",
       "      <td>18.0</td>\n",
       "      <td>58.0</td>\n",
       "      <td>824.0</td>\n",
       "      <td>280.0</td>\n",
       "      <td>4.0</td>\n",
       "      <td>8.0</td>\n",
       "      <td>7229</td>\n",
       "    </tr>\n",
       "    <tr>\n",
       "      <th>10681</th>\n",
       "      <td>10.0</td>\n",
       "      <td>0.0</td>\n",
       "      <td>0.0</td>\n",
       "      <td>5.0</td>\n",
       "      <td>18.0</td>\n",
       "      <td>92.0</td>\n",
       "      <td>938.0</td>\n",
       "      <td>238.0</td>\n",
       "      <td>4.0</td>\n",
       "      <td>8.0</td>\n",
       "      <td>12648</td>\n",
       "    </tr>\n",
       "    <tr>\n",
       "      <th>10682</th>\n",
       "      <td>1.0</td>\n",
       "      <td>42.0</td>\n",
       "      <td>2.0</td>\n",
       "      <td>1.0</td>\n",
       "      <td>108.0</td>\n",
       "      <td>85.0</td>\n",
       "      <td>1124.0</td>\n",
       "      <td>347.0</td>\n",
       "      <td>1.0</td>\n",
       "      <td>8.0</td>\n",
       "      <td>11753</td>\n",
       "    </tr>\n",
       "  </tbody>\n",
       "</table>\n",
       "<p>10578 rows × 11 columns</p>\n",
       "</div>"
      ],
      "text/plain": [
       "       Airline  Date_of_Journey  Source  Destination  Route  Dep_Time  \\\n",
       "0          3.0             24.0     0.0          5.0   18.0     211.0   \n",
       "1          1.0              6.0     3.0          0.0   84.0      31.0   \n",
       "2          4.0             43.0     2.0          1.0  118.0      70.0   \n",
       "3          3.0             10.0     3.0          0.0   91.0     164.0   \n",
       "4          3.0              0.0     0.0          5.0   29.0     149.0   \n",
       "...        ...              ...     ...          ...    ...       ...   \n",
       "10678      0.0             41.0     3.0          0.0   64.0     183.0   \n",
       "10679      1.0             29.0     3.0          0.0   64.0     193.0   \n",
       "10680      4.0             29.0     0.0          2.0   18.0      58.0   \n",
       "10681     10.0              0.0     0.0          5.0   18.0      92.0   \n",
       "10682      1.0             42.0     2.0          1.0  108.0      85.0   \n",
       "\n",
       "       Arrival_Time  Duration  Total_Stops  Additional_Info  Price  \n",
       "0             233.0     240.0          4.0              8.0   3897  \n",
       "1             906.0     336.0          1.0              8.0   7662  \n",
       "2             413.0     106.0          1.0              8.0  13882  \n",
       "3            1324.0     311.0          0.0              8.0   6218  \n",
       "4            1237.0     303.0          0.0              8.0  13302  \n",
       "...             ...       ...          ...              ...    ...  \n",
       "10678        1259.0     236.0          4.0              8.0   4107  \n",
       "10679        1305.0     237.0          4.0              8.0   4145  \n",
       "10680         824.0     280.0          4.0              8.0   7229  \n",
       "10681         938.0     238.0          4.0              8.0  12648  \n",
       "10682        1124.0     347.0          1.0              8.0  11753  \n",
       "\n",
       "[10578 rows x 11 columns]"
      ]
     },
     "execution_count": 31,
     "metadata": {},
     "output_type": "execute_result"
    }
   ],
   "source": [
    "df_new"
   ]
  },
  {
   "cell_type": "code",
   "execution_count": 32,
   "id": "b8f031bd",
   "metadata": {},
   "outputs": [
    {
     "name": "stdout",
     "output_type": "stream",
     "text": [
      "old df (10683, 11)\n",
      "new df (10578, 11)\n",
      "reduction in rows 105\n"
     ]
    }
   ],
   "source": [
    "print(\"old df\",df.shape)\n",
    "print(\"new df\",df_new.shape)\n",
    "print(\"reduction in rows\",df.shape[0]-df_new.shape[0])"
   ]
  },
  {
   "cell_type": "code",
   "execution_count": 33,
   "id": "b9e9e80b",
   "metadata": {},
   "outputs": [],
   "source": [
    "Percentage_dataloss=(10683-10578)/10683*100"
   ]
  },
  {
   "cell_type": "code",
   "execution_count": 34,
   "id": "bdef0d1f",
   "metadata": {},
   "outputs": [
    {
     "data": {
      "text/plain": [
       "0.9828699803426004"
      ]
     },
     "execution_count": 34,
     "metadata": {},
     "output_type": "execute_result"
    }
   ],
   "source": [
    "Percentage_dataloss"
   ]
  },
  {
   "cell_type": "markdown",
   "id": "0b96b3cc",
   "metadata": {},
   "source": [
    "# spliting the Data in Training & Tesing phase"
   ]
  },
  {
   "cell_type": "code",
   "execution_count": 35,
   "id": "d02b24d0",
   "metadata": {},
   "outputs": [],
   "source": [
    "x=df_new.drop('Price',axis=1)"
   ]
  },
  {
   "cell_type": "code",
   "execution_count": 36,
   "id": "c133f36f",
   "metadata": {},
   "outputs": [
    {
     "data": {
      "text/html": [
       "<div>\n",
       "<style scoped>\n",
       "    .dataframe tbody tr th:only-of-type {\n",
       "        vertical-align: middle;\n",
       "    }\n",
       "\n",
       "    .dataframe tbody tr th {\n",
       "        vertical-align: top;\n",
       "    }\n",
       "\n",
       "    .dataframe thead th {\n",
       "        text-align: right;\n",
       "    }\n",
       "</style>\n",
       "<table border=\"1\" class=\"dataframe\">\n",
       "  <thead>\n",
       "    <tr style=\"text-align: right;\">\n",
       "      <th></th>\n",
       "      <th>Airline</th>\n",
       "      <th>Date_of_Journey</th>\n",
       "      <th>Source</th>\n",
       "      <th>Destination</th>\n",
       "      <th>Route</th>\n",
       "      <th>Dep_Time</th>\n",
       "      <th>Arrival_Time</th>\n",
       "      <th>Duration</th>\n",
       "      <th>Total_Stops</th>\n",
       "      <th>Additional_Info</th>\n",
       "    </tr>\n",
       "  </thead>\n",
       "  <tbody>\n",
       "    <tr>\n",
       "      <th>0</th>\n",
       "      <td>3.0</td>\n",
       "      <td>24.0</td>\n",
       "      <td>0.0</td>\n",
       "      <td>5.0</td>\n",
       "      <td>18.0</td>\n",
       "      <td>211.0</td>\n",
       "      <td>233.0</td>\n",
       "      <td>240.0</td>\n",
       "      <td>4.0</td>\n",
       "      <td>8.0</td>\n",
       "    </tr>\n",
       "    <tr>\n",
       "      <th>1</th>\n",
       "      <td>1.0</td>\n",
       "      <td>6.0</td>\n",
       "      <td>3.0</td>\n",
       "      <td>0.0</td>\n",
       "      <td>84.0</td>\n",
       "      <td>31.0</td>\n",
       "      <td>906.0</td>\n",
       "      <td>336.0</td>\n",
       "      <td>1.0</td>\n",
       "      <td>8.0</td>\n",
       "    </tr>\n",
       "    <tr>\n",
       "      <th>2</th>\n",
       "      <td>4.0</td>\n",
       "      <td>43.0</td>\n",
       "      <td>2.0</td>\n",
       "      <td>1.0</td>\n",
       "      <td>118.0</td>\n",
       "      <td>70.0</td>\n",
       "      <td>413.0</td>\n",
       "      <td>106.0</td>\n",
       "      <td>1.0</td>\n",
       "      <td>8.0</td>\n",
       "    </tr>\n",
       "    <tr>\n",
       "      <th>3</th>\n",
       "      <td>3.0</td>\n",
       "      <td>10.0</td>\n",
       "      <td>3.0</td>\n",
       "      <td>0.0</td>\n",
       "      <td>91.0</td>\n",
       "      <td>164.0</td>\n",
       "      <td>1324.0</td>\n",
       "      <td>311.0</td>\n",
       "      <td>0.0</td>\n",
       "      <td>8.0</td>\n",
       "    </tr>\n",
       "    <tr>\n",
       "      <th>4</th>\n",
       "      <td>3.0</td>\n",
       "      <td>0.0</td>\n",
       "      <td>0.0</td>\n",
       "      <td>5.0</td>\n",
       "      <td>29.0</td>\n",
       "      <td>149.0</td>\n",
       "      <td>1237.0</td>\n",
       "      <td>303.0</td>\n",
       "      <td>0.0</td>\n",
       "      <td>8.0</td>\n",
       "    </tr>\n",
       "    <tr>\n",
       "      <th>...</th>\n",
       "      <td>...</td>\n",
       "      <td>...</td>\n",
       "      <td>...</td>\n",
       "      <td>...</td>\n",
       "      <td>...</td>\n",
       "      <td>...</td>\n",
       "      <td>...</td>\n",
       "      <td>...</td>\n",
       "      <td>...</td>\n",
       "      <td>...</td>\n",
       "    </tr>\n",
       "    <tr>\n",
       "      <th>10678</th>\n",
       "      <td>0.0</td>\n",
       "      <td>41.0</td>\n",
       "      <td>3.0</td>\n",
       "      <td>0.0</td>\n",
       "      <td>64.0</td>\n",
       "      <td>183.0</td>\n",
       "      <td>1259.0</td>\n",
       "      <td>236.0</td>\n",
       "      <td>4.0</td>\n",
       "      <td>8.0</td>\n",
       "    </tr>\n",
       "    <tr>\n",
       "      <th>10679</th>\n",
       "      <td>1.0</td>\n",
       "      <td>29.0</td>\n",
       "      <td>3.0</td>\n",
       "      <td>0.0</td>\n",
       "      <td>64.0</td>\n",
       "      <td>193.0</td>\n",
       "      <td>1305.0</td>\n",
       "      <td>237.0</td>\n",
       "      <td>4.0</td>\n",
       "      <td>8.0</td>\n",
       "    </tr>\n",
       "    <tr>\n",
       "      <th>10680</th>\n",
       "      <td>4.0</td>\n",
       "      <td>29.0</td>\n",
       "      <td>0.0</td>\n",
       "      <td>2.0</td>\n",
       "      <td>18.0</td>\n",
       "      <td>58.0</td>\n",
       "      <td>824.0</td>\n",
       "      <td>280.0</td>\n",
       "      <td>4.0</td>\n",
       "      <td>8.0</td>\n",
       "    </tr>\n",
       "    <tr>\n",
       "      <th>10681</th>\n",
       "      <td>10.0</td>\n",
       "      <td>0.0</td>\n",
       "      <td>0.0</td>\n",
       "      <td>5.0</td>\n",
       "      <td>18.0</td>\n",
       "      <td>92.0</td>\n",
       "      <td>938.0</td>\n",
       "      <td>238.0</td>\n",
       "      <td>4.0</td>\n",
       "      <td>8.0</td>\n",
       "    </tr>\n",
       "    <tr>\n",
       "      <th>10682</th>\n",
       "      <td>1.0</td>\n",
       "      <td>42.0</td>\n",
       "      <td>2.0</td>\n",
       "      <td>1.0</td>\n",
       "      <td>108.0</td>\n",
       "      <td>85.0</td>\n",
       "      <td>1124.0</td>\n",
       "      <td>347.0</td>\n",
       "      <td>1.0</td>\n",
       "      <td>8.0</td>\n",
       "    </tr>\n",
       "  </tbody>\n",
       "</table>\n",
       "<p>10578 rows × 10 columns</p>\n",
       "</div>"
      ],
      "text/plain": [
       "       Airline  Date_of_Journey  Source  Destination  Route  Dep_Time  \\\n",
       "0          3.0             24.0     0.0          5.0   18.0     211.0   \n",
       "1          1.0              6.0     3.0          0.0   84.0      31.0   \n",
       "2          4.0             43.0     2.0          1.0  118.0      70.0   \n",
       "3          3.0             10.0     3.0          0.0   91.0     164.0   \n",
       "4          3.0              0.0     0.0          5.0   29.0     149.0   \n",
       "...        ...              ...     ...          ...    ...       ...   \n",
       "10678      0.0             41.0     3.0          0.0   64.0     183.0   \n",
       "10679      1.0             29.0     3.0          0.0   64.0     193.0   \n",
       "10680      4.0             29.0     0.0          2.0   18.0      58.0   \n",
       "10681     10.0              0.0     0.0          5.0   18.0      92.0   \n",
       "10682      1.0             42.0     2.0          1.0  108.0      85.0   \n",
       "\n",
       "       Arrival_Time  Duration  Total_Stops  Additional_Info  \n",
       "0             233.0     240.0          4.0              8.0  \n",
       "1             906.0     336.0          1.0              8.0  \n",
       "2             413.0     106.0          1.0              8.0  \n",
       "3            1324.0     311.0          0.0              8.0  \n",
       "4            1237.0     303.0          0.0              8.0  \n",
       "...             ...       ...          ...              ...  \n",
       "10678        1259.0     236.0          4.0              8.0  \n",
       "10679        1305.0     237.0          4.0              8.0  \n",
       "10680         824.0     280.0          4.0              8.0  \n",
       "10681         938.0     238.0          4.0              8.0  \n",
       "10682        1124.0     347.0          1.0              8.0  \n",
       "\n",
       "[10578 rows x 10 columns]"
      ]
     },
     "execution_count": 36,
     "metadata": {},
     "output_type": "execute_result"
    }
   ],
   "source": [
    "x"
   ]
  },
  {
   "cell_type": "code",
   "execution_count": 37,
   "id": "532eee62",
   "metadata": {},
   "outputs": [],
   "source": [
    "y=df_new['Price']"
   ]
  },
  {
   "cell_type": "code",
   "execution_count": 38,
   "id": "0a7ac6bf",
   "metadata": {},
   "outputs": [
    {
     "data": {
      "text/plain": [
       "0         3897\n",
       "1         7662\n",
       "2        13882\n",
       "3         6218\n",
       "4        13302\n",
       "         ...  \n",
       "10678     4107\n",
       "10679     4145\n",
       "10680     7229\n",
       "10681    12648\n",
       "10682    11753\n",
       "Name: Price, Length: 10578, dtype: int64"
      ]
     },
     "execution_count": 38,
     "metadata": {},
     "output_type": "execute_result"
    }
   ],
   "source": [
    "y"
   ]
  },
  {
   "cell_type": "code",
   "execution_count": 39,
   "id": "0cd31eb3",
   "metadata": {},
   "outputs": [
    {
     "data": {
      "text/plain": [
       "(10578,)"
      ]
     },
     "execution_count": 39,
     "metadata": {},
     "output_type": "execute_result"
    }
   ],
   "source": [
    "y.shape"
   ]
  },
  {
   "cell_type": "markdown",
   "id": "46f191f3",
   "metadata": {},
   "source": [
    "# Finding skewness in given Dataset"
   ]
  },
  {
   "cell_type": "code",
   "execution_count": 40,
   "id": "49c2eebc",
   "metadata": {},
   "outputs": [
    {
     "data": {
      "text/plain": [
       "Airline            0.731709\n",
       "Date_of_Journey   -0.061918\n",
       "Source            -0.439204\n",
       "Destination        1.269454\n",
       "Route             -0.511368\n",
       "Dep_Time           0.194141\n",
       "Arrival_Time      -0.608273\n",
       "Duration          -0.216095\n",
       "Total_Stops        0.618208\n",
       "Additional_Info   -1.533587\n",
       "dtype: float64"
      ]
     },
     "execution_count": 40,
     "metadata": {},
     "output_type": "execute_result"
    }
   ],
   "source": [
    "x.skew()"
   ]
  },
  {
   "cell_type": "markdown",
   "id": "9fc4a38e",
   "metadata": {},
   "source": [
    "Skewness is present in dataset"
   ]
  },
  {
   "cell_type": "markdown",
   "id": "c85acde9",
   "metadata": {},
   "source": [
    "# For Removing the Skewness use power transform method "
   ]
  },
  {
   "cell_type": "code",
   "execution_count": 41,
   "id": "a8acfba5",
   "metadata": {},
   "outputs": [],
   "source": [
    "from sklearn.preprocessing import power_transform"
   ]
  },
  {
   "cell_type": "code",
   "execution_count": 42,
   "id": "9afd32fe",
   "metadata": {},
   "outputs": [],
   "source": [
    "x=power_transform(x,method='yeo-johnson')"
   ]
  },
  {
   "cell_type": "code",
   "execution_count": 43,
   "id": "75af3aa8",
   "metadata": {},
   "outputs": [
    {
     "data": {
      "text/plain": [
       "array([[-0.29476089,  0.05869198, -1.6152499 , ...,  0.45951538,\n",
       "         1.28732906,  0.52441414],\n",
       "       [-1.41810658, -1.51928406,  0.89701632, ...,  1.24248255,\n",
       "         0.3422693 ,  0.52441414],\n",
       "       [ 0.14749469,  1.48824925, -0.02769762, ..., -0.74980288,\n",
       "         0.3422693 ,  0.52441414],\n",
       "       ...,\n",
       "       [ 0.14749469,  0.45006721, -1.6152499 , ...,  0.79185447,\n",
       "         1.28732906,  0.52441414],\n",
       "       [ 2.11603321, -2.20863929, -1.6152499 , ...,  0.44263522,\n",
       "         1.28732906,  0.52441414],\n",
       "       [-1.41810658,  1.41638341, -0.02769762, ...,  1.32925852,\n",
       "         0.3422693 ,  0.52441414]])"
      ]
     },
     "execution_count": 43,
     "metadata": {},
     "output_type": "execute_result"
    }
   ],
   "source": [
    "x"
   ]
  },
  {
   "cell_type": "code",
   "execution_count": 44,
   "id": "f27afd75",
   "metadata": {},
   "outputs": [
    {
     "data": {
      "text/plain": [
       "0   -0.015590\n",
       "1   -0.214275\n",
       "2   -0.234422\n",
       "3    0.040863\n",
       "4   -0.437329\n",
       "5   -0.150696\n",
       "6   -0.382489\n",
       "7   -0.391174\n",
       "8    0.317054\n",
       "9   -1.363711\n",
       "dtype: float64"
      ]
     },
     "execution_count": 44,
     "metadata": {},
     "output_type": "execute_result"
    }
   ],
   "source": [
    "pd.DataFrame(x).skew()"
   ]
  },
  {
   "cell_type": "markdown",
   "id": "6124bbf1",
   "metadata": {},
   "source": [
    "Now Skewness has removed"
   ]
  },
  {
   "cell_type": "markdown",
   "id": "32b9f7e4",
   "metadata": {},
   "source": [
    "# Scaling of Dataset by using StandardScaler Method"
   ]
  },
  {
   "cell_type": "code",
   "execution_count": 45,
   "id": "2a8664a3",
   "metadata": {},
   "outputs": [],
   "source": [
    "from sklearn.preprocessing import StandardScaler\n",
    "sc=StandardScaler()"
   ]
  },
  {
   "cell_type": "code",
   "execution_count": 46,
   "id": "10d7ebb4",
   "metadata": {},
   "outputs": [],
   "source": [
    "x=sc.fit_transform(x)"
   ]
  },
  {
   "cell_type": "code",
   "execution_count": 47,
   "id": "f2d2d1f6",
   "metadata": {},
   "outputs": [
    {
     "data": {
      "text/plain": [
       "array([[-0.29476089,  0.05869198, -1.6152499 , ...,  0.45951538,\n",
       "         1.28732906,  0.52441414],\n",
       "       [-1.41810658, -1.51928406,  0.89701632, ...,  1.24248255,\n",
       "         0.3422693 ,  0.52441414],\n",
       "       [ 0.14749469,  1.48824925, -0.02769762, ..., -0.74980288,\n",
       "         0.3422693 ,  0.52441414],\n",
       "       ...,\n",
       "       [ 0.14749469,  0.45006721, -1.6152499 , ...,  0.79185447,\n",
       "         1.28732906,  0.52441414],\n",
       "       [ 2.11603321, -2.20863929, -1.6152499 , ...,  0.44263522,\n",
       "         1.28732906,  0.52441414],\n",
       "       [-1.41810658,  1.41638341, -0.02769762, ...,  1.32925852,\n",
       "         0.3422693 ,  0.52441414]])"
      ]
     },
     "execution_count": 47,
     "metadata": {},
     "output_type": "execute_result"
    }
   ],
   "source": [
    "x"
   ]
  },
  {
   "cell_type": "markdown",
   "id": "4210402a",
   "metadata": {},
   "source": [
    "# O/P or LAbel is continous type so use Linear Regression Model"
   ]
  },
  {
   "cell_type": "code",
   "execution_count": 48,
   "id": "f07b5bd9",
   "metadata": {},
   "outputs": [],
   "source": [
    "from sklearn.linear_model import LinearRegression,Ridge,Lasso\n",
    "from sklearn.metrics import mean_absolute_error,mean_squared_error,r2_score\n",
    "from sklearn.model_selection import train_test_split\n",
    "lr=LinearRegression()"
   ]
  },
  {
   "cell_type": "code",
   "execution_count": 49,
   "id": "4cb3fe98",
   "metadata": {},
   "outputs": [
    {
     "name": "stdout",
     "output_type": "stream",
     "text": [
      "at random_state0,the testing accuracy score is := 0.31328144225559607\n",
      "at random_state0,the training accuracy is: = 0.30166950822584093\n",
      "at random_state1,the testing accuracy score is := 0.30264822994273655\n",
      "at random_state1,the training accuracy is: = 0.3051661378259267\n",
      "at random_state2,the testing accuracy score is := 0.30262046800172904\n",
      "at random_state2,the training accuracy is: = 0.3056880562014327\n",
      "at random_state3,the testing accuracy score is := 0.31993529323545133\n",
      "at random_state3,the training accuracy is: = 0.29984792142589056\n",
      "at random_state4,the testing accuracy score is := 0.2927443501785333\n",
      "at random_state4,the training accuracy is: = 0.30865920058427077\n",
      "at random_state5,the testing accuracy score is := 0.2813182323935248\n",
      "at random_state5,the training accuracy is: = 0.31263417674082083\n",
      "at random_state6,the testing accuracy score is := 0.3067547502206628\n",
      "at random_state6,the training accuracy is: = 0.30419703970096934\n",
      "at random_state7,the testing accuracy score is := 0.3205434377806662\n",
      "at random_state7,the training accuracy is: = 0.2987330980821685\n",
      "at random_state8,the testing accuracy score is := 0.30798400804218107\n",
      "at random_state8,the training accuracy is: = 0.3037005942571681\n",
      "at random_state9,the testing accuracy score is := 0.30139564864451485\n",
      "at random_state9,the training accuracy is: = 0.305895952912574\n",
      "at random_state10,the testing accuracy score is := 0.3011206573488866\n",
      "at random_state10,the training accuracy is: = 0.3059899222508976\n",
      "at random_state11,the testing accuracy score is := 0.30925971095551397\n",
      "at random_state11,the training accuracy is: = 0.30347657611457546\n",
      "at random_state12,the testing accuracy score is := 0.32915822281851737\n",
      "at random_state12,the training accuracy is: = 0.29653160302115134\n",
      "at random_state13,the testing accuracy score is := 0.32203674144503847\n",
      "at random_state13,the training accuracy is: = 0.29915240640400886\n",
      "at random_state14,the testing accuracy score is := 0.3042936294472558\n",
      "at random_state14,the training accuracy is: = 0.30503129757057235\n",
      "at random_state15,the testing accuracy score is := 0.29860349960195365\n",
      "at random_state15,the training accuracy is: = 0.3069228167006971\n",
      "at random_state16,the testing accuracy score is := 0.30991410740840386\n",
      "at random_state16,the training accuracy is: = 0.30312206820483156\n",
      "at random_state17,the testing accuracy score is := 0.3008374225372724\n",
      "at random_state17,the training accuracy is: = 0.30611032905213553\n",
      "at random_state18,the testing accuracy score is := 0.2858748998580467\n",
      "at random_state18,the training accuracy is: = 0.31095860274796416\n",
      "at random_state19,the testing accuracy score is := 0.29150489684995806\n",
      "at random_state19,the training accuracy is: = 0.3093826052057851\n",
      "at random_state20,the testing accuracy score is := 0.311874691926903\n",
      "at random_state20,the training accuracy is: = 0.30266531026745425\n",
      "at random_state21,the testing accuracy score is := 0.3019969114077451\n",
      "at random_state21,the training accuracy is: = 0.30587716153535904\n",
      "at random_state22,the testing accuracy score is := 0.3066649520087821\n",
      "at random_state22,the training accuracy is: = 0.30418708210439216\n",
      "at random_state23,the testing accuracy score is := 0.32643350204635146\n",
      "at random_state23,the training accuracy is: = 0.29763243161392916\n",
      "at random_state24,the testing accuracy score is := 0.297421311777165\n",
      "at random_state24,the training accuracy is: = 0.3073606842420221\n",
      "at random_state25,the testing accuracy score is := 0.3071181528122181\n",
      "at random_state25,the training accuracy is: = 0.304145037367041\n",
      "at random_state26,the testing accuracy score is := 0.3033550719097472\n",
      "at random_state26,the training accuracy is: = 0.30507254530052785\n",
      "at random_state27,the testing accuracy score is := 0.3140159432598756\n",
      "at random_state27,the training accuracy is: = 0.3019309701775371\n",
      "at random_state28,the testing accuracy score is := 0.28669074775159453\n",
      "at random_state28,the training accuracy is: = 0.31090681946220045\n",
      "at random_state29,the testing accuracy score is := 0.2863015271768109\n",
      "at random_state29,the training accuracy is: = 0.31086822139573256\n",
      "at random_state30,the testing accuracy score is := 0.29948243349645864\n",
      "at random_state30,the training accuracy is: = 0.30657391280535495\n",
      "at random_state31,the testing accuracy score is := 0.29536243831469433\n",
      "at random_state31,the training accuracy is: = 0.3078422732344851\n",
      "at random_state32,the testing accuracy score is := 0.3111818574199312\n",
      "at random_state32,the training accuracy is: = 0.3028464850966741\n",
      "at random_state33,the testing accuracy score is := 0.2932457330550726\n",
      "at random_state33,the training accuracy is: = 0.3074969784074282\n",
      "at random_state34,the testing accuracy score is := 0.31495219786390516\n",
      "at random_state34,the training accuracy is: = 0.301100379855349\n",
      "at random_state35,the testing accuracy score is := 0.29853562317378857\n",
      "at random_state35,the training accuracy is: = 0.3070189945404138\n",
      "at random_state36,the testing accuracy score is := 0.3163209882179012\n",
      "at random_state36,the training accuracy is: = 0.30094744538343565\n",
      "at random_state37,the testing accuracy score is := 0.2728213242858075\n",
      "at random_state37,the training accuracy is: = 0.31540821386417184\n",
      "at random_state38,the testing accuracy score is := 0.3140461691097767\n",
      "at random_state38,the training accuracy is: = 0.3010532132771807\n",
      "at random_state39,the testing accuracy score is := 0.2998631036325178\n",
      "at random_state39,the training accuracy is: = 0.30656471513710026\n",
      "at random_state40,the testing accuracy score is := 0.2892598736045686\n",
      "at random_state40,the training accuracy is: = 0.3099624012837836\n",
      "at random_state41,the testing accuracy score is := 0.3083553717555114\n",
      "at random_state41,the training accuracy is: = 0.30362482426418314\n",
      "at random_state42,the testing accuracy score is := 0.29080274087999036\n",
      "at random_state42,the training accuracy is: = 0.3097532609377891\n",
      "at random_state43,the testing accuracy score is := 0.3043736815174902\n",
      "at random_state43,the training accuracy is: = 0.3046912554482427\n",
      "at random_state44,the testing accuracy score is := 0.2977306989441435\n",
      "at random_state44,the training accuracy is: = 0.30711265938924504\n",
      "at random_state45,the testing accuracy score is := 0.30715221709936424\n",
      "at random_state45,the training accuracy is: = 0.30412931195497295\n",
      "at random_state46,the testing accuracy score is := 0.30118118691701523\n",
      "at random_state46,the training accuracy is: = 0.30610810472941097\n",
      "at random_state47,the testing accuracy score is := 0.2904028608713043\n",
      "at random_state47,the training accuracy is: = 0.30968747788258977\n",
      "at random_state48,the testing accuracy score is := 0.300765709224897\n",
      "at random_state48,the training accuracy is: = 0.30632703230609726\n",
      "at random_state49,the testing accuracy score is := 0.31232285897936574\n",
      "at random_state49,the training accuracy is: = 0.3022814060815484\n",
      "at random_state50,the testing accuracy score is := 0.31834918215379215\n",
      "at random_state50,the training accuracy is: = 0.3003281631485717\n",
      "at random_state51,the testing accuracy score is := 0.3160239099058638\n",
      "at random_state51,the training accuracy is: = 0.30106782233315177\n",
      "at random_state52,the testing accuracy score is := 0.3061772203110492\n",
      "at random_state52,the training accuracy is: = 0.3044311166909861\n",
      "at random_state53,the testing accuracy score is := 0.2929547401351834\n",
      "at random_state53,the training accuracy is: = 0.3084979697490343\n",
      "at random_state54,the testing accuracy score is := 0.29898396046286524\n",
      "at random_state54,the training accuracy is: = 0.3068547595554799\n",
      "at random_state55,the testing accuracy score is := 0.2948327968097917\n",
      "at random_state55,the training accuracy is: = 0.30741960599260054\n",
      "at random_state56,the testing accuracy score is := 0.29389687481542137\n",
      "at random_state56,the training accuracy is: = 0.3086956356222845\n",
      "at random_state57,the testing accuracy score is := 0.3175564707887223\n",
      "at random_state57,the training accuracy is: = 0.3003277485399718\n",
      "at random_state58,the testing accuracy score is := 0.31090128213693213\n",
      "at random_state58,the training accuracy is: = 0.302884336329833\n",
      "at random_state59,the testing accuracy score is := 0.31113579299364313\n",
      "at random_state59,the training accuracy is: = 0.30269910166507774\n",
      "at random_state60,the testing accuracy score is := 0.32209467073184306\n",
      "at random_state60,the training accuracy is: = 0.2987896394942632\n",
      "at random_state61,the testing accuracy score is := 0.29756989366223474\n",
      "at random_state61,the training accuracy is: = 0.3070587675452813\n",
      "at random_state62,the testing accuracy score is := 0.32022669563792905\n",
      "at random_state62,the training accuracy is: = 0.299797221574043\n",
      "at random_state63,the testing accuracy score is := 0.2972890191157549\n",
      "at random_state63,the training accuracy is: = 0.3071530273244132\n",
      "at random_state64,the testing accuracy score is := 0.3079651721881611\n",
      "at random_state64,the training accuracy is: = 0.30374721749912037\n",
      "at random_state65,the testing accuracy score is := 0.29805387527154237\n",
      "at random_state65,the training accuracy is: = 0.30674242911054783\n",
      "at random_state66,the testing accuracy score is := 0.29638622954287686\n",
      "at random_state66,the training accuracy is: = 0.3079004185478066\n",
      "at random_state67,the testing accuracy score is := 0.31035073937517854\n",
      "at random_state67,the training accuracy is: = 0.3029755070587168\n",
      "at random_state68,the testing accuracy score is := 0.3063912085483479\n",
      "at random_state68,the training accuracy is: = 0.30438107911985834\n",
      "at random_state69,the testing accuracy score is := 0.31713324548669874\n",
      "at random_state69,the training accuracy is: = 0.30055872630090563\n",
      "at random_state70,the testing accuracy score is := 0.30428858668287084\n",
      "at random_state70,the training accuracy is: = 0.30512138292448\n",
      "at random_state71,the testing accuracy score is := 0.2990498759194461\n",
      "at random_state71,the training accuracy is: = 0.3064922231534738\n",
      "at random_state72,the testing accuracy score is := 0.30141644358307496\n",
      "at random_state72,the training accuracy is: = 0.3061175879709773\n",
      "at random_state73,the testing accuracy score is := 0.3086043767310561\n",
      "at random_state73,the training accuracy is: = 0.3036344937865799\n",
      "at random_state74,the testing accuracy score is := 0.3209337013515714\n",
      "at random_state74,the training accuracy is: = 0.2996154227690919\n",
      "at random_state75,the testing accuracy score is := 0.3132930686785034\n",
      "at random_state75,the training accuracy is: = 0.3021960285250145\n",
      "at random_state76,the testing accuracy score is := 0.29986082116026935\n",
      "at random_state76,the training accuracy is: = 0.306511052542345\n",
      "at random_state77,the testing accuracy score is := 0.29006302221744806\n",
      "at random_state77,the training accuracy is: = 0.30961997563756916\n",
      "at random_state78,the testing accuracy score is := 0.3243980057379776\n",
      "at random_state78,the training accuracy is: = 0.29854615617522984\n",
      "at random_state79,the testing accuracy score is := 0.2821080812795427\n",
      "at random_state79,the training accuracy is: = 0.3119727835403928\n",
      "at random_state80,the testing accuracy score is := 0.30861278287632476\n",
      "at random_state80,the training accuracy is: = 0.30359882249911796\n",
      "at random_state81,the testing accuracy score is := 0.28580198401529966\n",
      "at random_state81,the training accuracy is: = 0.31091289530906785\n",
      "at random_state82,the testing accuracy score is := 0.30126735141502536\n",
      "at random_state82,the training accuracy is: = 0.30554727752750954\n",
      "at random_state83,the testing accuracy score is := 0.2953992783645344\n",
      "at random_state83,the training accuracy is: = 0.30802946308085455\n",
      "at random_state84,the testing accuracy score is := 0.29776481402360744\n",
      "at random_state84,the training accuracy is: = 0.3073192611537343\n",
      "at random_state85,the testing accuracy score is := 0.3170062592306666\n",
      "at random_state85,the training accuracy is: = 0.3004496630662561\n",
      "at random_state86,the testing accuracy score is := 0.3221341354758859\n",
      "at random_state86,the training accuracy is: = 0.2984893482157229\n",
      "at random_state87,the testing accuracy score is := 0.3019309923614021\n",
      "at random_state87,the training accuracy is: = 0.3059429761760273\n",
      "at random_state88,the testing accuracy score is := 0.2914203698484623\n",
      "at random_state88,the training accuracy is: = 0.3088582852592081\n",
      "at random_state89,the testing accuracy score is := 0.29752614502860264\n",
      "at random_state89,the training accuracy is: = 0.307216179985933\n",
      "at random_state90,the testing accuracy score is := 0.29558428158080086\n",
      "at random_state90,the training accuracy is: = 0.3071637430376354\n",
      "at random_state91,the testing accuracy score is := 0.3076313386301964\n",
      "at random_state91,the training accuracy is: = 0.3036606342471564\n",
      "at random_state92,the testing accuracy score is := 0.3335587299705418\n",
      "at random_state92,the training accuracy is: = 0.2953760044088851\n",
      "at random_state93,the testing accuracy score is := 0.2612484938487666\n",
      "at random_state93,the training accuracy is: = 0.3188046154738752\n",
      "at random_state94,the testing accuracy score is := 0.3056499333355116\n",
      "at random_state94,the training accuracy is: = 0.3046113977263698\n",
      "at random_state95,the testing accuracy score is := 0.2974418173861064\n",
      "at random_state95,the training accuracy is: = 0.30728921939130593\n",
      "at random_state96,the testing accuracy score is := 0.292159943898903\n",
      "at random_state96,the training accuracy is: = 0.3090130155190318\n",
      "at random_state97,the testing accuracy score is := 0.3046287311611371\n",
      "at random_state97,the training accuracy is: = 0.30496943190392\n",
      "at random_state98,the testing accuracy score is := 0.30206376225483045\n",
      "at random_state98,the training accuracy is: = 0.30574369937129586\n",
      "at random_state99,the testing accuracy score is := 0.329763402688358\n",
      "at random_state99,the training accuracy is: = 0.2954498020268017\n"
     ]
    }
   ],
   "source": [
    "for i in range(0,100):\n",
    "        train_x,test_x,train_y,test_y=train_test_split(x,y,test_size=0.25,random_state=i)\n",
    "        lr.fit(train_x,train_y)\n",
    "        lrpred=lr.predict(test_x)\n",
    "        print(f\"at random_state{i},the testing accuracy score is := {r2_score(test_y,lrpred)}\")\n",
    "        print(f\"at random_state{i},the training accuracy is: = {lr.score(train_x,train_y)}\")\n",
    "        "
   ]
  },
  {
   "cell_type": "code",
   "execution_count": 50,
   "id": "67566cb1",
   "metadata": {},
   "outputs": [
    {
     "name": "stdout",
     "output_type": "stream",
     "text": [
      "at randon_state12,the testing accuracy score is := 0.32417096748701\n",
      "at random_state12,the training accuracy is: =   0.2999566216800975\n"
     ]
    }
   ],
   "source": [
    "        train_x,test_x,train_y,test_y=train_test_split(x,y,test_size=0.2,random_state=12)\n",
    "        lr.fit(train_x,train_y)\n",
    "        lrpred=lr.predict(test_x)\n",
    "        print(f\"at randon_state{12},the testing accuracy score is := {r2_score(test_y,lrpred)}\")\n",
    "        print(f\"at random_state{12},the training accuracy is: =   {lr.score(train_x,train_y)}\")"
   ]
  },
  {
   "cell_type": "raw",
   "id": "cd0f05ba",
   "metadata": {},
   "source": [
    "Training & testing both accuracy having the model performance <50%. so this model is not suiatable."
   ]
  },
  {
   "cell_type": "markdown",
   "id": "66adb8da",
   "metadata": {},
   "source": [
    "# Cross validation of Model"
   ]
  },
  {
   "cell_type": "code",
   "execution_count": 51,
   "id": "e426e2db",
   "metadata": {},
   "outputs": [],
   "source": [
    "from sklearn.model_selection import cross_val_score"
   ]
  },
  {
   "cell_type": "code",
   "execution_count": 52,
   "id": "29190f2b",
   "metadata": {},
   "outputs": [
    {
     "data": {
      "text/plain": [
       "0.30249430832622054"
      ]
     },
     "execution_count": 52,
     "metadata": {},
     "output_type": "execute_result"
    }
   ],
   "source": [
    "    cv_score=cross_val_score(lr,x,y,cv=2)\n",
    "    cv_mean=cv_score.mean()\n",
    "    cv_mean"
   ]
  },
  {
   "cell_type": "code",
   "execution_count": 53,
   "id": "61155828",
   "metadata": {},
   "outputs": [
    {
     "data": {
      "text/plain": [
       "0.3031034531462902"
      ]
     },
     "execution_count": 53,
     "metadata": {},
     "output_type": "execute_result"
    }
   ],
   "source": [
    "    cv_score=cross_val_score(lr,x,y,cv=3)\n",
    "    cv_mean=cv_score.mean()\n",
    "    cv_mean"
   ]
  },
  {
   "cell_type": "code",
   "execution_count": 54,
   "id": "eae37bdc",
   "metadata": {},
   "outputs": [
    {
     "data": {
      "text/plain": [
       "0.30344631594208193"
      ]
     },
     "execution_count": 54,
     "metadata": {},
     "output_type": "execute_result"
    }
   ],
   "source": [
    "    cv_score=cross_val_score(lr,x,y,cv=4)\n",
    "    cv_mean=cv_score.mean()\n",
    "    cv_mean"
   ]
  },
  {
   "cell_type": "code",
   "execution_count": 55,
   "id": "8850e544",
   "metadata": {},
   "outputs": [
    {
     "data": {
      "text/plain": [
       "0.3029147889371502"
      ]
     },
     "execution_count": 55,
     "metadata": {},
     "output_type": "execute_result"
    }
   ],
   "source": [
    "    cv_score=cross_val_score(lr,x,y,cv=5)\n",
    "    cv_mean=cv_score.mean()\n",
    "    cv_mean"
   ]
  },
  {
   "cell_type": "markdown",
   "id": "36fbf939",
   "metadata": {},
   "source": [
    "it has the Mean_accuracy <50%.Not performing better."
   ]
  },
  {
   "cell_type": "markdown",
   "id": "2f4e7706",
   "metadata": {},
   "source": [
    "# Graphical Representation for checking best fit Data points in Linear Regression model"
   ]
  },
  {
   "cell_type": "code",
   "execution_count": 56,
   "id": "14f1711d",
   "metadata": {},
   "outputs": [
    {
     "data": {
      "image/png": "[encoded data removed]",
      "text/plain": [
       "<Figure size 576x432 with 1 Axes>"
      ]
     },
     "metadata": {
      "needs_background": "light"
     },
     "output_type": "display_data"
    }
   ],
   "source": [
    "plt.figure(figsize=(8,6))\n",
    "\n",
    "plt.scatter(x=test_y,y=lrpred,color='r')\n",
    "plt.plot(test_y,test_y,color='b')\n",
    "plt.xlabel(\"Actual prices\")\n",
    "plt.ylabel(\"predited prices\")\n",
    "plt.title(\"Linear Regression\")\n",
    "plt.show()"
   ]
  },
  {
   "cell_type": "markdown",
   "id": "1a4f0836",
   "metadata": {},
   "source": [
    "Best fit line does not covers most of the datapoints which shows not gd fit for our model"
   ]
  },
  {
   "cell_type": "markdown",
   "id": "5945d3ca",
   "metadata": {},
   "source": [
    "# Regularization "
   ]
  },
  {
   "cell_type": "code",
   "execution_count": 57,
   "id": "dda60aee",
   "metadata": {},
   "outputs": [
    {
     "name": "stdout",
     "output_type": "stream",
     "text": [
      "{'alpha': 10}\n"
     ]
    }
   ],
   "source": [
    "from sklearn.model_selection import GridSearchCV\n",
    "\n",
    "param_new={'alpha':[1,.01,.001,.0001,.1,10]}\n",
    "rd=Ridge()\n",
    "grid=GridSearchCV(rd,param_grid=param_new)\n",
    "grid.fit(train_x,train_y)\n",
    "print(grid.best_params_)"
   ]
  },
  {
   "cell_type": "code",
   "execution_count": 58,
   "id": "9bad1cd1",
   "metadata": {},
   "outputs": [
    {
     "name": "stdout",
     "output_type": "stream",
     "text": [
      "0.32412220748711984\n"
     ]
    }
   ],
   "source": [
    "rd=Ridge(10)\n",
    "rd.fit(train_x,train_y)\n",
    "train_score=rd.score(train_x,train_y)\n",
    "rdpred=rd.predict(test_x)\n",
    "print(r2_score(test_y,rdpred))"
   ]
  },
  {
   "cell_type": "code",
   "execution_count": 59,
   "id": "278df91d",
   "metadata": {},
   "outputs": [
    {
     "data": {
      "text/plain": [
       "0.30344801753213935"
      ]
     },
     "execution_count": 59,
     "metadata": {},
     "output_type": "execute_result"
    }
   ],
   "source": [
    "rd=Ridge(10)\n",
    "cv_score=cross_val_score(rd,x,y,cv=4)\n",
    "mean_score=cv_score.mean()\n",
    "mean_score"
   ]
  },
  {
   "cell_type": "code",
   "execution_count": 60,
   "id": "e9b483cf",
   "metadata": {},
   "outputs": [
    {
     "name": "stdout",
     "output_type": "stream",
     "text": [
      "{'alpha': 0.1}\n"
     ]
    }
   ],
   "source": [
    "param_new={'alpha':[1,.01,.001,.0001,.1,10]}\n",
    "ls=Lasso()\n",
    "grid=GridSearchCV(ls,param_grid=param_new)\n",
    "grid.fit(train_x,train_y)\n",
    "print(grid.best_params_)"
   ]
  },
  {
   "cell_type": "code",
   "execution_count": 61,
   "id": "b4c0024f",
   "metadata": {},
   "outputs": [
    {
     "name": "stdout",
     "output_type": "stream",
     "text": [
      "0.32416386057211855\n"
     ]
    }
   ],
   "source": [
    "ls=Lasso(0.1)\n",
    "ls.fit(train_x,train_y)\n",
    "train_score=ls.score(train_x,train_y)\n",
    "lspred=ls.predict(test_x)\n",
    "print(r2_score(test_y,lspred))"
   ]
  },
  {
   "cell_type": "code",
   "execution_count": 62,
   "id": "986c04de",
   "metadata": {},
   "outputs": [
    {
     "data": {
      "text/plain": [
       "0.3034463381731519"
      ]
     },
     "execution_count": 62,
     "metadata": {},
     "output_type": "execute_result"
    }
   ],
   "source": [
    "ls=Ridge(0.1)\n",
    "cv_score=cross_val_score(ls,x,y,cv=4)\n",
    "mean_score=cv_score.mean()\n",
    "mean_score"
   ]
  },
  {
   "cell_type": "markdown",
   "id": "054e5d36",
   "metadata": {},
   "source": [
    "# Ensemble Technique"
   ]
  },
  {
   "cell_type": "code",
   "execution_count": 71,
   "id": "5a4ae5f2",
   "metadata": {},
   "outputs": [],
   "source": [
    "from sklearn.ensemble import RandomForestRegressor\n",
    "from sklearn.model_selection import GridSearchCV"
   ]
  },
  {
   "cell_type": "code",
   "execution_count": 72,
   "id": "bbcfde1f",
   "metadata": {},
   "outputs": [
    {
     "name": "stdout",
     "output_type": "stream",
     "text": [
      "GridSearchCV(estimator=RandomForestRegressor(),\n",
      "             param_grid={'criterion': ['mse', 'mae'],\n",
      "                         'max_features': ['auto', 'log2', 'sqrt']})\n"
     ]
    }
   ],
   "source": [
    "param_new = {'criterion':['mse','mae'],'max_features':[\"auto\",\"log2\",\"sqrt\"]}\n",
    "rf= RandomForestRegressor()\n",
    "grid_latest=GridSearchCV(rf,param_new)\n",
    "grid_latest.fit(train_x,train_y)\n",
    "print(grid_latest)"
   ]
  },
  {
   "cell_type": "code",
   "execution_count": 73,
   "id": "35b84168",
   "metadata": {},
   "outputs": [
    {
     "name": "stdout",
     "output_type": "stream",
     "text": [
      "{'criterion': 'mse', 'max_features': 'auto'}\n"
     ]
    }
   ],
   "source": [
    "print(grid_latest.best_params_)"
   ]
  },
  {
   "cell_type": "code",
   "execution_count": 79,
   "id": "23954133",
   "metadata": {},
   "outputs": [
    {
     "data": {
      "text/plain": [
       "0.908537119878844"
      ]
     },
     "execution_count": 79,
     "metadata": {},
     "output_type": "execute_result"
    }
   ],
   "source": [
    "rf=RandomForestRegressor(criterion='mse')\n",
    "rf.fit(train_x,train_y)\n",
    "rf.score(train_x,train_y)\n",
    "rfpred=rf.predict(test_x)\n",
    "r2_score(test_y,rfpred)"
   ]
  },
  {
   "cell_type": "code",
   "execution_count": 80,
   "id": "7b3eb2f2",
   "metadata": {},
   "outputs": [
    {
     "name": "stdout",
     "output_type": "stream",
     "text": [
      "training score of Randomforest Regressor:=0.9829568516507196\n",
      "testing score for RandomForest Regressor:=0.908537119878844\n"
     ]
    }
   ],
   "source": [
    "print(f\"training score of Randomforest Regressor:={rf.score(train_x,train_y)}\")\n",
    "print(f\"testing score for RandomForest Regressor:={r2_score(test_y,rfpred)}\")"
   ]
  },
  {
   "cell_type": "markdown",
   "id": "a73563db",
   "metadata": {},
   "source": [
    "# Graphical Representation for checking best fit Data points in rf model"
   ]
  },
  {
   "cell_type": "code",
   "execution_count": 160,
   "id": "c26e2478",
   "metadata": {},
   "outputs": [
    {
     "data": {
      "image/png": "[encoded data removed]",
      "text/plain": [
       "<Figure size 576x432 with 1 Axes>"
      ]
     },
     "metadata": {
      "needs_background": "light"
     },
     "output_type": "display_data"
    }
   ],
   "source": [
    "plt.figure(figsize=(8,6))\n",
    "\n",
    "plt.scatter(x=test_y,y=rfpred,color='r')\n",
    "plt.plot(test_y,test_y,color='b')\n",
    "plt.xlabel(\"Actual prices\")\n",
    "plt.ylabel(\"predicted prices\")\n",
    "plt.title(\"rf Regressor\")\n",
    "plt.show()"
   ]
  },
  {
   "cell_type": "markdown",
   "id": "142c3846",
   "metadata": {},
   "source": [
    "Best fit line covers most of the datapoints which shows best fit for our model"
   ]
  },
  {
   "cell_type": "code",
   "execution_count": 83,
   "id": "88c377bb",
   "metadata": {},
   "outputs": [],
   "source": [
    "cv_score=cross_val_score(rf,x,y,cv=5)\n",
    "mean_accuracy=cv_score.mean()"
   ]
  },
  {
   "cell_type": "code",
   "execution_count": 85,
   "id": "0b1eb2bd",
   "metadata": {},
   "outputs": [
    {
     "data": {
      "text/plain": [
       "0.9020769477837598"
      ]
     },
     "execution_count": 85,
     "metadata": {},
     "output_type": "execute_result"
    }
   ],
   "source": [
    "mean_accuracy"
   ]
  },
  {
   "cell_type": "code",
   "execution_count": 89,
   "id": "3ff8ceb7",
   "metadata": {},
   "outputs": [],
   "source": [
    "cv_score=cross_val_score(rf,x,y,cv=3)\n",
    "mean_accuracy=cv_score.mean()"
   ]
  },
  {
   "cell_type": "code",
   "execution_count": 90,
   "id": "85b9e24c",
   "metadata": {},
   "outputs": [
    {
     "data": {
      "text/plain": [
       "0.8955301983601909"
      ]
     },
     "execution_count": 90,
     "metadata": {},
     "output_type": "execute_result"
    }
   ],
   "source": [
    "mean_accuracy"
   ]
  },
  {
   "cell_type": "code",
   "execution_count": 91,
   "id": "8688d885",
   "metadata": {},
   "outputs": [],
   "source": [
    "cv_score=cross_val_score(rf,x,y,cv=2)\n",
    "mean_accuracy=cv_score.mean()"
   ]
  },
  {
   "cell_type": "code",
   "execution_count": 92,
   "id": "3147417a",
   "metadata": {},
   "outputs": [
    {
     "data": {
      "text/plain": [
       "0.8866619412932815"
      ]
     },
     "execution_count": 92,
     "metadata": {},
     "output_type": "execute_result"
    }
   ],
   "source": [
    "mean_accuracy"
   ]
  },
  {
   "cell_type": "markdown",
   "id": "2da1d748",
   "metadata": {},
   "source": [
    "# Prediction for Given Model"
   ]
  },
  {
   "cell_type": "markdown",
   "id": "f15402e6",
   "metadata": {},
   "source": [
    "in all above Given Models the Random Forest Regressor has the best model ,having the Model Performance score :\n",
    "    training score of Randomforest Regressor:=98.29%\n",
    "    testing score for RandomForest Regressor:=90.8%"
   ]
  },
  {
   "cell_type": "markdown",
   "id": "a705cff3",
   "metadata": {},
   "source": [
    "# Saving the best model"
   ]
  },
  {
   "cell_type": "code",
   "execution_count": 95,
   "id": "c8725c3e",
   "metadata": {},
   "outputs": [],
   "source": [
    "import joblib"
   ]
  },
  {
   "cell_type": "code",
   "execution_count": 96,
   "id": "6539e899",
   "metadata": {},
   "outputs": [],
   "source": [
    "rf_file=joblib.dump(rf,\"rf_file.org\")"
   ]
  },
  {
   "cell_type": "code",
   "execution_count": 97,
   "id": "be85f522",
   "metadata": {},
   "outputs": [
    {
     "data": {
      "text/plain": [
       "['rf_file.org']"
      ]
     },
     "execution_count": 97,
     "metadata": {},
     "output_type": "execute_result"
    }
   ],
   "source": [
    "rf_file"
   ]
  },
  {
   "cell_type": "code",
   "execution_count": null,
   "id": "d4bb3647",
   "metadata": {},
   "outputs": [],
   "source": []
  }
 ],
 "metadata": {
  "kernelspec": {
   "display_name": "Python 3 (ipykernel)",
   "language": "python",
   "name": "python3"
  },
  "language_info": {
   "codemirror_mode": {
    "name": "ipython",
    "version": 3
   },
   "file_extension": ".py",
   "mimetype": "text/x-python",
   "name": "python",
   "nbconvert_exporter": "python",
   "pygments_lexer": "ipython3",
   "version": "3.9.7"
  }
 },
 "nbformat": 4,
 "nbformat_minor": 5
}
